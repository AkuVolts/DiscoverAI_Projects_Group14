{
 "cells": [
  {
   "cell_type": "code",
   "execution_count": 21,
   "metadata": {},
   "outputs": [],
   "source": [
    "import pandas as pd\n",
    "import numpy as np\n",
    "\n",
    "import matplotlib.pyplot as plt\n",
    "%matplotlib inline\n",
    "import seaborn as sns\n",
    "\n",
    "from sklearn.model_selection import train_test_split\n",
    "from sklearn.metrics import accuracy_score\n",
    "from sklearn.tree import DecisionTreeClassifier\n",
    "from sklearn.ensemble import RandomForestClassifier"
   ]
  },
  {
   "cell_type": "code",
   "execution_count": 22,
   "metadata": {},
   "outputs": [
    {
     "data": {
      "text/html": [
       "<div>\n",
       "<style scoped>\n",
       "    .dataframe tbody tr th:only-of-type {\n",
       "        vertical-align: middle;\n",
       "    }\n",
       "\n",
       "    .dataframe tbody tr th {\n",
       "        vertical-align: top;\n",
       "    }\n",
       "\n",
       "    .dataframe thead th {\n",
       "        text-align: right;\n",
       "    }\n",
       "</style>\n",
       "<table border=\"1\" class=\"dataframe\">\n",
       "  <thead>\n",
       "    <tr style=\"text-align: right;\">\n",
       "      <th></th>\n",
       "      <th>Pregnancies</th>\n",
       "      <th>Glucose</th>\n",
       "      <th>BloodPressure</th>\n",
       "      <th>SkinThickness</th>\n",
       "      <th>Insulin</th>\n",
       "      <th>BMI</th>\n",
       "      <th>DiabetesPedigreeFunction</th>\n",
       "      <th>Age</th>\n",
       "      <th>Outcome</th>\n",
       "    </tr>\n",
       "  </thead>\n",
       "  <tbody>\n",
       "    <tr>\n",
       "      <th>0</th>\n",
       "      <td>6</td>\n",
       "      <td>148</td>\n",
       "      <td>72</td>\n",
       "      <td>35</td>\n",
       "      <td>0</td>\n",
       "      <td>33.6</td>\n",
       "      <td>0.627</td>\n",
       "      <td>50</td>\n",
       "      <td>1</td>\n",
       "    </tr>\n",
       "    <tr>\n",
       "      <th>1</th>\n",
       "      <td>1</td>\n",
       "      <td>85</td>\n",
       "      <td>66</td>\n",
       "      <td>29</td>\n",
       "      <td>0</td>\n",
       "      <td>26.6</td>\n",
       "      <td>0.351</td>\n",
       "      <td>31</td>\n",
       "      <td>0</td>\n",
       "    </tr>\n",
       "    <tr>\n",
       "      <th>2</th>\n",
       "      <td>8</td>\n",
       "      <td>183</td>\n",
       "      <td>64</td>\n",
       "      <td>0</td>\n",
       "      <td>0</td>\n",
       "      <td>23.3</td>\n",
       "      <td>0.672</td>\n",
       "      <td>32</td>\n",
       "      <td>1</td>\n",
       "    </tr>\n",
       "    <tr>\n",
       "      <th>3</th>\n",
       "      <td>1</td>\n",
       "      <td>89</td>\n",
       "      <td>66</td>\n",
       "      <td>23</td>\n",
       "      <td>94</td>\n",
       "      <td>28.1</td>\n",
       "      <td>0.167</td>\n",
       "      <td>21</td>\n",
       "      <td>0</td>\n",
       "    </tr>\n",
       "    <tr>\n",
       "      <th>4</th>\n",
       "      <td>0</td>\n",
       "      <td>137</td>\n",
       "      <td>40</td>\n",
       "      <td>35</td>\n",
       "      <td>168</td>\n",
       "      <td>43.1</td>\n",
       "      <td>2.288</td>\n",
       "      <td>33</td>\n",
       "      <td>1</td>\n",
       "    </tr>\n",
       "    <tr>\n",
       "      <th>...</th>\n",
       "      <td>...</td>\n",
       "      <td>...</td>\n",
       "      <td>...</td>\n",
       "      <td>...</td>\n",
       "      <td>...</td>\n",
       "      <td>...</td>\n",
       "      <td>...</td>\n",
       "      <td>...</td>\n",
       "      <td>...</td>\n",
       "    </tr>\n",
       "    <tr>\n",
       "      <th>763</th>\n",
       "      <td>10</td>\n",
       "      <td>101</td>\n",
       "      <td>76</td>\n",
       "      <td>48</td>\n",
       "      <td>180</td>\n",
       "      <td>32.9</td>\n",
       "      <td>0.171</td>\n",
       "      <td>63</td>\n",
       "      <td>0</td>\n",
       "    </tr>\n",
       "    <tr>\n",
       "      <th>764</th>\n",
       "      <td>2</td>\n",
       "      <td>122</td>\n",
       "      <td>70</td>\n",
       "      <td>27</td>\n",
       "      <td>0</td>\n",
       "      <td>36.8</td>\n",
       "      <td>0.340</td>\n",
       "      <td>27</td>\n",
       "      <td>0</td>\n",
       "    </tr>\n",
       "    <tr>\n",
       "      <th>765</th>\n",
       "      <td>5</td>\n",
       "      <td>121</td>\n",
       "      <td>72</td>\n",
       "      <td>23</td>\n",
       "      <td>112</td>\n",
       "      <td>26.2</td>\n",
       "      <td>0.245</td>\n",
       "      <td>30</td>\n",
       "      <td>0</td>\n",
       "    </tr>\n",
       "    <tr>\n",
       "      <th>766</th>\n",
       "      <td>1</td>\n",
       "      <td>126</td>\n",
       "      <td>60</td>\n",
       "      <td>0</td>\n",
       "      <td>0</td>\n",
       "      <td>30.1</td>\n",
       "      <td>0.349</td>\n",
       "      <td>47</td>\n",
       "      <td>1</td>\n",
       "    </tr>\n",
       "    <tr>\n",
       "      <th>767</th>\n",
       "      <td>1</td>\n",
       "      <td>93</td>\n",
       "      <td>70</td>\n",
       "      <td>31</td>\n",
       "      <td>0</td>\n",
       "      <td>30.4</td>\n",
       "      <td>0.315</td>\n",
       "      <td>23</td>\n",
       "      <td>0</td>\n",
       "    </tr>\n",
       "  </tbody>\n",
       "</table>\n",
       "<p>768 rows × 9 columns</p>\n",
       "</div>"
      ],
      "text/plain": [
       "     Pregnancies  Glucose  BloodPressure  SkinThickness  Insulin   BMI  \\\n",
       "0              6      148             72             35        0  33.6   \n",
       "1              1       85             66             29        0  26.6   \n",
       "2              8      183             64              0        0  23.3   \n",
       "3              1       89             66             23       94  28.1   \n",
       "4              0      137             40             35      168  43.1   \n",
       "..           ...      ...            ...            ...      ...   ...   \n",
       "763           10      101             76             48      180  32.9   \n",
       "764            2      122             70             27        0  36.8   \n",
       "765            5      121             72             23      112  26.2   \n",
       "766            1      126             60              0        0  30.1   \n",
       "767            1       93             70             31        0  30.4   \n",
       "\n",
       "     DiabetesPedigreeFunction  Age  Outcome  \n",
       "0                       0.627   50        1  \n",
       "1                       0.351   31        0  \n",
       "2                       0.672   32        1  \n",
       "3                       0.167   21        0  \n",
       "4                       2.288   33        1  \n",
       "..                        ...  ...      ...  \n",
       "763                     0.171   63        0  \n",
       "764                     0.340   27        0  \n",
       "765                     0.245   30        0  \n",
       "766                     0.349   47        1  \n",
       "767                     0.315   23        0  \n",
       "\n",
       "[768 rows x 9 columns]"
      ]
     },
     "execution_count": 22,
     "metadata": {},
     "output_type": "execute_result"
    }
   ],
   "source": [
    "dt = pd.read_csv(\"diabetes.csv\")\n",
    "dt"
   ]
  },
  {
   "cell_type": "code",
   "execution_count": 23,
   "metadata": {},
   "outputs": [
    {
     "data": {
      "text/html": [
       "<div>\n",
       "<style scoped>\n",
       "    .dataframe tbody tr th:only-of-type {\n",
       "        vertical-align: middle;\n",
       "    }\n",
       "\n",
       "    .dataframe tbody tr th {\n",
       "        vertical-align: top;\n",
       "    }\n",
       "\n",
       "    .dataframe thead th {\n",
       "        text-align: right;\n",
       "    }\n",
       "</style>\n",
       "<table border=\"1\" class=\"dataframe\">\n",
       "  <thead>\n",
       "    <tr style=\"text-align: right;\">\n",
       "      <th></th>\n",
       "      <th>Pregnancies</th>\n",
       "      <th>Glucose</th>\n",
       "      <th>BloodPressure</th>\n",
       "      <th>SkinThickness</th>\n",
       "      <th>Insulin</th>\n",
       "      <th>BMI</th>\n",
       "      <th>DiabetesPedigreeFunction</th>\n",
       "      <th>Age</th>\n",
       "      <th>Outcome</th>\n",
       "    </tr>\n",
       "  </thead>\n",
       "  <tbody>\n",
       "    <tr>\n",
       "      <th>0</th>\n",
       "      <td>6</td>\n",
       "      <td>148</td>\n",
       "      <td>72</td>\n",
       "      <td>35</td>\n",
       "      <td>0</td>\n",
       "      <td>33.6</td>\n",
       "      <td>0.627</td>\n",
       "      <td>50</td>\n",
       "      <td>1</td>\n",
       "    </tr>\n",
       "    <tr>\n",
       "      <th>1</th>\n",
       "      <td>1</td>\n",
       "      <td>85</td>\n",
       "      <td>66</td>\n",
       "      <td>29</td>\n",
       "      <td>0</td>\n",
       "      <td>26.6</td>\n",
       "      <td>0.351</td>\n",
       "      <td>31</td>\n",
       "      <td>0</td>\n",
       "    </tr>\n",
       "    <tr>\n",
       "      <th>2</th>\n",
       "      <td>8</td>\n",
       "      <td>183</td>\n",
       "      <td>64</td>\n",
       "      <td>0</td>\n",
       "      <td>0</td>\n",
       "      <td>23.3</td>\n",
       "      <td>0.672</td>\n",
       "      <td>32</td>\n",
       "      <td>1</td>\n",
       "    </tr>\n",
       "    <tr>\n",
       "      <th>3</th>\n",
       "      <td>1</td>\n",
       "      <td>89</td>\n",
       "      <td>66</td>\n",
       "      <td>23</td>\n",
       "      <td>94</td>\n",
       "      <td>28.1</td>\n",
       "      <td>0.167</td>\n",
       "      <td>21</td>\n",
       "      <td>0</td>\n",
       "    </tr>\n",
       "    <tr>\n",
       "      <th>4</th>\n",
       "      <td>0</td>\n",
       "      <td>137</td>\n",
       "      <td>40</td>\n",
       "      <td>35</td>\n",
       "      <td>168</td>\n",
       "      <td>43.1</td>\n",
       "      <td>2.288</td>\n",
       "      <td>33</td>\n",
       "      <td>1</td>\n",
       "    </tr>\n",
       "  </tbody>\n",
       "</table>\n",
       "</div>"
      ],
      "text/plain": [
       "   Pregnancies  Glucose  BloodPressure  SkinThickness  Insulin   BMI  \\\n",
       "0            6      148             72             35        0  33.6   \n",
       "1            1       85             66             29        0  26.6   \n",
       "2            8      183             64              0        0  23.3   \n",
       "3            1       89             66             23       94  28.1   \n",
       "4            0      137             40             35      168  43.1   \n",
       "\n",
       "   DiabetesPedigreeFunction  Age  Outcome  \n",
       "0                     0.627   50        1  \n",
       "1                     0.351   31        0  \n",
       "2                     0.672   32        1  \n",
       "3                     0.167   21        0  \n",
       "4                     2.288   33        1  "
      ]
     },
     "execution_count": 23,
     "metadata": {},
     "output_type": "execute_result"
    }
   ],
   "source": [
    "dt.head(5)"
   ]
  },
  {
   "cell_type": "code",
   "execution_count": 24,
   "metadata": {},
   "outputs": [
    {
     "data": {
      "text/plain": [
       "False"
      ]
     },
     "execution_count": 24,
     "metadata": {},
     "output_type": "execute_result"
    }
   ],
   "source": [
    "dt.isnull().values.any()"
   ]
  },
  {
   "cell_type": "code",
   "execution_count": 25,
   "metadata": {},
   "outputs": [
    {
     "data": {
      "text/plain": [
       "Pregnancies                   int64\n",
       "Glucose                       int64\n",
       "BloodPressure                 int64\n",
       "SkinThickness                 int64\n",
       "Insulin                       int64\n",
       "BMI                         float64\n",
       "DiabetesPedigreeFunction    float64\n",
       "Age                           int64\n",
       "Outcome                       int64\n",
       "dtype: object"
      ]
     },
     "execution_count": 25,
     "metadata": {},
     "output_type": "execute_result"
    }
   ],
   "source": [
    "dt.dtypes"
   ]
  },
  {
   "cell_type": "code",
   "execution_count": 26,
   "metadata": {},
   "outputs": [],
   "source": [
    "feature_cols = ['Pregnancies', 'Insulin', 'BMI', 'Age', 'Glucose', 'BloodPressure', 'DiabetesPedigreeFunction']\n",
    "x = dt[feature_cols]\n",
    "y = dt.Outcome\n",
    "X_train, X_test, Y_train, Y_test = train_test_split(x, y, test_size = 0.3, random_state=1)"
   ]
  },
  {
   "cell_type": "code",
   "execution_count": 27,
   "metadata": {},
   "outputs": [
    {
     "data": {
      "text/plain": [
       "DecisionTreeClassifier()"
      ]
     },
     "execution_count": 27,
     "metadata": {},
     "output_type": "execute_result"
    }
   ],
   "source": [
    "c = DecisionTreeClassifier()\n",
    "c.fit(X_train,Y_train)"
   ]
  },
  {
   "cell_type": "code",
   "execution_count": 28,
   "metadata": {},
   "outputs": [
    {
     "data": {
      "text/plain": [
       "array([0, 1, 0, 1, 0, 1, 0, 0, 0, 0, 0, 1, 0, 1, 0, 0, 0, 1, 0, 1, 1, 0,\n",
       "       1, 0, 0, 1, 0, 1, 0, 0, 0, 1, 0, 1, 1, 0, 0, 1, 0, 1, 0, 0, 0, 0,\n",
       "       0, 0, 1, 1, 0, 0, 0, 1, 1, 0, 1, 0, 1, 0, 0, 1, 1, 0, 0, 0, 1, 0,\n",
       "       0, 0, 1, 1, 1, 1, 0, 0, 1, 0, 1, 0, 0, 1, 0, 0, 1, 0, 0, 1, 0, 0,\n",
       "       1, 0, 0, 0, 0, 0, 1, 0, 1, 0, 1, 0, 0, 0, 0, 0, 0, 0, 0, 1, 1, 0,\n",
       "       1, 0, 0, 0, 0, 0, 0, 0, 0, 0, 0, 1, 0, 0, 0, 0, 0, 0, 0, 0, 1, 0,\n",
       "       0, 0, 0, 0, 0, 1, 0, 0, 0, 0, 0, 0, 0, 0, 0, 0, 0, 0, 1, 0, 1, 0,\n",
       "       1, 0, 1, 0, 0, 0, 1, 1, 0, 0, 1, 0, 0, 1, 1, 1, 1, 1, 1, 0, 1, 0,\n",
       "       0, 0, 0, 0, 1, 1, 0, 1, 0, 0, 0, 1, 0, 0, 0, 0, 0, 0, 1, 0, 1, 0,\n",
       "       0, 1, 1, 0, 1, 0, 0, 1, 0, 0, 0, 0, 0, 0, 0, 1, 1, 1, 0, 0, 0, 0,\n",
       "       0, 0, 0, 0, 0, 0, 0, 0, 0, 1, 0], dtype=int64)"
      ]
     },
     "execution_count": 28,
     "metadata": {},
     "output_type": "execute_result"
    }
   ],
   "source": [
    "prediction = c.predict(X_test)\n",
    "prediction"
   ]
  },
  {
   "cell_type": "code",
   "execution_count": 29,
   "metadata": {},
   "outputs": [
    {
     "data": {
      "text/plain": [
       "0.6666666666666666"
      ]
     },
     "execution_count": 29,
     "metadata": {},
     "output_type": "execute_result"
    }
   ],
   "source": [
    "score = accuracy_score(Y_test, prediction)\n",
    "score"
   ]
  },
  {
   "cell_type": "code",
   "execution_count": 39,
   "metadata": {},
   "outputs": [
    {
     "ename": "FileNotFoundError",
     "evalue": "[Errno 2] No such file or directory: 'digraph Tree {\\nnode [shape=box, style=\"filled, rounded\", color=\"black\", fontname=helvetica] ;\\nedge [fontname=helvetica] ;\\n0 [label=<Glucose &le; 129.5<br/>gini = 0.449<br/>samples = 537<br/>value = [354, 183]<br/>class = 0>, fillcolor=\"#f2c29f\"] ;\\n1 [label=<BMI &le; 26.3<br/>gini = 0.329<br/>samples = 357<br/>value = [283, 74]<br/>class = 0>, fillcolor=\"#eca26d\"] ;\\n0 -> 1 [labeldistance=2.5, labelangle=45, headlabel=\"True\"] ;\\n2 [label=<BMI &le; 9.1<br/>gini = 0.06<br/>samples = 97<br/>value = [94, 3]<br/>class = 0>, fillcolor=\"#e6853f\"] ;\\n1 -> 2 ;\\n3 [label=<Pregnancies &le; 7.5<br/>gini = 0.444<br/>samples = 6<br/>value = [4, 2]<br/>class = 0>, fillcolor=\"#f2c09c\"] ;\\n2 -> 3 ;\\n4 [label=<gini = 0.0<br/>samples = 4<br/>value = [4, 0]<br/>class = 0>, fillcolor=\"#e58139\"] ;\\n3 -> 4 ;\\n5 [label=<gini = 0.0<br/>samples = 2<br/>value = [0, 2]<br/>class = 1>, fillcolor=\"#399de5\"] ;\\n3 -> 5 ;\\n6 [label=<DiabetesPedigreeFunction &le; 0.669<br/>gini = 0.022<br/>samples = 91<br/>value = [90, 1]<br/>class = 0>, fillcolor=\"#e5823b\"] ;\\n2 -> 6 ;\\n7 [label=<gini = 0.0<br/>samples = 76<br/>value = [76, 0]<br/>class = 0>, fillcolor=\"#e58139\"] ;\\n6 -> 7 ;\\n8 [label=<DiabetesPedigreeFunction &le; 0.705<br/>gini = 0.124<br/>samples = 15<br/>value = [14, 1]<br/>class = 0>, fillcolor=\"#e78a47\"] ;\\n6 -> 8 ;\\n9 [label=<gini = 0.0<br/>samples = 1<br/>value = [0, 1]<br/>class = 1>, fillcolor=\"#399de5\"] ;\\n8 -> 9 ;\\n10 [label=<gini = 0.0<br/>samples = 14<br/>value = [14, 0]<br/>class = 0>, fillcolor=\"#e58139\"] ;\\n8 -> 10 ;\\n11 [label=<Age &le; 27.5<br/>gini = 0.397<br/>samples = 260<br/>value = [189, 71]<br/>class = 0>, fillcolor=\"#efb083\"] ;\\n1 -> 11 ;\\n12 [label=<BMI &le; 45.4<br/>gini = 0.243<br/>samples = 120<br/>value = [103, 17]<br/>class = 0>, fillcolor=\"#e9965a\"] ;\\n11 -> 12 ;\\n13 [label=<BloodPressure &le; 12.0<br/>gini = 0.212<br/>samples = 116<br/>value = [102, 14]<br/>class = 0>, fillcolor=\"#e99254\"] ;\\n12 -> 13 ;\\n14 [label=<gini = 0.0<br/>samples = 1<br/>value = [0, 1]<br/>class = 1>, fillcolor=\"#399de5\"] ;\\n13 -> 14 ;\\n15 [label=<Pregnancies &le; 7.0<br/>gini = 0.201<br/>samples = 115<br/>value = [102, 13]<br/>class = 0>, fillcolor=\"#e89152\"] ;\\n13 -> 15 ;\\n16 [label=<DiabetesPedigreeFunction &le; 1.272<br/>gini = 0.188<br/>samples = 114<br/>value = [102, 12]<br/>class = 0>, fillcolor=\"#e89050\"] ;\\n15 -> 16 ;\\n17 [label=<BMI &le; 30.95<br/>gini = 0.165<br/>samples = 110<br/>value = [100, 10]<br/>class = 0>, fillcolor=\"#e88e4d\"] ;\\n16 -> 17 ;\\n18 [label=<gini = 0.0<br/>samples = 43<br/>value = [43, 0]<br/>class = 0>, fillcolor=\"#e58139\"] ;\\n17 -> 18 ;\\n19 [label=<BloodPressure &le; 53.0<br/>gini = 0.254<br/>samples = 67<br/>value = [57, 10]<br/>class = 0>, fillcolor=\"#ea975c\"] ;\\n17 -> 19 ;\\n20 [label=<Pregnancies &le; 2.5<br/>gini = 0.5<br/>samples = 6<br/>value = [3, 3]<br/>class = 0>, fillcolor=\"#ffffff\"] ;\\n19 -> 20 ;\\n21 [label=<DiabetesPedigreeFunction &le; 0.566<br/>gini = 0.375<br/>samples = 4<br/>value = [3, 1]<br/>class = 0>, fillcolor=\"#eeab7b\"] ;\\n20 -> 21 ;\\n22 [label=<gini = 0.0<br/>samples = 3<br/>value = [3, 0]<br/>class = 0>, fillcolor=\"#e58139\"] ;\\n21 -> 22 ;\\n23 [label=<gini = 0.0<br/>samples = 1<br/>value = [0, 1]<br/>class = 1>, fillcolor=\"#399de5\"] ;\\n21 -> 23 ;\\n24 [label=<gini = 0.0<br/>samples = 2<br/>value = [0, 2]<br/>class = 1>, fillcolor=\"#399de5\"] ;\\n20 -> 24 ;\\n25 [label=<DiabetesPedigreeFunction &le; 0.652<br/>gini = 0.203<br/>samples = 61<br/>value = [54, 7]<br/>class = 0>, fillcolor=\"#e89153\"] ;\\n19 -> 25 ;\\n26 [label=<Insulin &le; 36.5<br/>gini = 0.15<br/>samples = 49<br/>value = [45, 4]<br/>class = 0>, fillcolor=\"#e78c4b\"] ;\\n25 -> 26 ;\\n27 [label=<Insulin &le; 34.0<br/>gini = 0.32<br/>samples = 20<br/>value = [16, 4]<br/>class = 0>, fillcolor=\"#eca06a\"] ;\\n26 -> 27 ;\\n28 [label=<BMI &le; 33.65<br/>gini = 0.266<br/>samples = 19<br/>value = [16, 3]<br/>class = 0>, fillcolor=\"#ea995e\"] ;\\n27 -> 28 ;\\n29 [label=<Glucose &le; 102.0<br/>gini = 0.444<br/>samples = 6<br/>value = [4, 2]<br/>class = 0>, fillcolor=\"#f2c09c\"] ;\\n28 -> 29 ;\\n30 [label=<gini = 0.0<br/>samples = 3<br/>value = [3, 0]<br/>class = 0>, fillcolor=\"#e58139\"] ;\\n29 -> 30 ;\\n31 [label=<Glucose &le; 119.0<br/>gini = 0.444<br/>samples = 3<br/>value = [1, 2]<br/>class = 1>, fillcolor=\"#9ccef2\"] ;\\n29 -> 31 ;\\n32 [label=<gini = 0.0<br/>samples = 2<br/>value = [0, 2]<br/>class = 1>, fillcolor=\"#399de5\"] ;\\n31 -> 32 ;\\n33 [label=<gini = 0.0<br/>samples = 1<br/>value = [1, 0]<br/>class = 0>, fillcolor=\"#e58139\"] ;\\n31 -> 33 ;\\n34 [label=<BMI &le; 37.95<br/>gini = 0.142<br/>samples = 13<br/>value = [12, 1]<br/>class = 0>, fillcolor=\"#e78c49\"] ;\\n28 -> 34 ;\\n35 [label=<gini = 0.0<br/>samples = 11<br/>value = [11, 0]<br/>class = 0>, fillcolor=\"#e58139\"] ;\\n34 -> 35 ;\\n36 [label=<Insulin &le; 9.0<br/>gini = 0.5<br/>samples = 2<br/>value = [1, 1]<br/>class = 0>, fillcolor=\"#ffffff\"] ;\\n34 -> 36 ;\\n37 [label=<gini = 0.0<br/>samples = 1<br/>value = [0, 1]<br/>class = 1>, fillcolor=\"#399de5\"] ;\\n36 -> 37 ;\\n38 [label=<gini = 0.0<br/>samples = 1<br/>value = [1, 0]<br/>class = 0>, fillcolor=\"#e58139\"] ;\\n36 -> 38 ;\\n39 [label=<gini = 0.0<br/>samples = 1<br/>value = [0, 1]<br/>class = 1>, fillcolor=\"#399de5\"] ;\\n27 -> 39 ;\\n40 [label=<gini = 0.0<br/>samples = 29<br/>value = [29, 0]<br/>class = 0>, fillcolor=\"#e58139\"] ;\\n26 -> 40 ;\\n41 [label=<Insulin &le; 65.5<br/>gini = 0.375<br/>samples = 12<br/>value = [9, 3]<br/>class = 0>, fillcolor=\"#eeab7b\"] ;\\n25 -> 41 ;\\n42 [label=<gini = 0.0<br/>samples = 7<br/>value = [7, 0]<br/>class = 0>, fillcolor=\"#e58139\"] ;\\n41 -> 42 ;\\n43 [label=<Glucose &le; 115.0<br/>gini = 0.48<br/>samples = 5<br/>value = [2, 3]<br/>class = 1>, fillcolor=\"#bddef6\"] ;\\n41 -> 43 ;\\n44 [label=<gini = 0.0<br/>samples = 3<br/>value = [0, 3]<br/>class = 1>, fillcolor=\"#399de5\"] ;\\n43 -> 44 ;\\n45 [label=<gini = 0.0<br/>samples = 2<br/>value = [2, 0]<br/>class = 0>, fillcolor=\"#e58139\"] ;\\n43 -> 45 ;\\n46 [label=<BMI &le; 29.5<br/>gini = 0.5<br/>samples = 4<br/>value = [2, 2]<br/>class = 0>, fillcolor=\"#ffffff\"] ;\\n16 -> 46 ;\\n47 [label=<gini = 0.0<br/>samples = 2<br/>value = [2, 0]<br/>class = 0>, fillcolor=\"#e58139\"] ;\\n46 -> 47 ;\\n48 [label=<gini = 0.0<br/>samples = 2<br/>value = [0, 2]<br/>class = 1>, fillcolor=\"#399de5\"] ;\\n46 -> 48 ;\\n49 [label=<gini = 0.0<br/>samples = 1<br/>value = [0, 1]<br/>class = 1>, fillcolor=\"#399de5\"] ;\\n15 -> 49 ;\\n50 [label=<Age &le; 22.5<br/>gini = 0.375<br/>samples = 4<br/>value = [1, 3]<br/>class = 1>, fillcolor=\"#7bbeee\"] ;\\n12 -> 50 ;\\n51 [label=<gini = 0.0<br/>samples = 1<br/>value = [1, 0]<br/>class = 0>, fillcolor=\"#e58139\"] ;\\n50 -> 51 ;\\n52 [label=<gini = 0.0<br/>samples = 3<br/>value = [0, 3]<br/>class = 1>, fillcolor=\"#399de5\"] ;\\n50 -> 52 ;\\n53 [label=<DiabetesPedigreeFunction &le; 0.563<br/>gini = 0.474<br/>samples = 140<br/>value = [86, 54]<br/>class = 0>, fillcolor=\"#f5d0b5\"] ;\\n11 -> 53 ;\\n54 [label=<Glucose &le; 101.5<br/>gini = 0.408<br/>samples = 98<br/>value = [70, 28]<br/>class = 0>, fillcolor=\"#efb388\"] ;\\n53 -> 54 ;\\n55 [label=<BloodPressure &le; 27.0<br/>gini = 0.208<br/>samples = 34<br/>value = [30, 4]<br/>class = 0>, fillcolor=\"#e89253\"] ;\\n54 -> 55 ;\\n56 [label=<gini = 0.0<br/>samples = 1<br/>value = [0, 1]<br/>class = 1>, fillcolor=\"#399de5\"] ;\\n55 -> 56 ;\\n57 [label=<Age &le; 42.5<br/>gini = 0.165<br/>samples = 33<br/>value = [30, 3]<br/>class = 0>, fillcolor=\"#e88e4d\"] ;\\n55 -> 57 ;\\n58 [label=<gini = 0.0<br/>samples = 23<br/>value = [23, 0]<br/>class = 0>, fillcolor=\"#e58139\"] ;\\n57 -> 58 ;\\n59 [label=<Glucose &le; 97.5<br/>gini = 0.42<br/>samples = 10<br/>value = [7, 3]<br/>class = 0>, fillcolor=\"#f0b78e\"] ;\\n57 -> 59 ;\\n60 [label=<BMI &le; 35.25<br/>gini = 0.5<br/>samples = 6<br/>value = [3, 3]<br/>class = 0>, fillcolor=\"#ffffff\"] ;\\n59 -> 60 ;\\n61 [label=<gini = 0.0<br/>samples = 2<br/>value = [0, 2]<br/>class = 1>, fillcolor=\"#399de5\"] ;\\n60 -> 61 ;\\n62 [label=<Glucose &le; 96.0<br/>gini = 0.375<br/>samples = 4<br/>value = [3, 1]<br/>class = 0>, fillcolor=\"#eeab7b\"] ;\\n60 -> 62 ;\\n63 [label=<gini = 0.0<br/>samples = 3<br/>value = [3, 0]<br/>class = 0>, fillcolor=\"#e58139\"] ;\\n62 -> 63 ;\\n64 [label=<gini = 0.0<br/>samples = 1<br/>value = [0, 1]<br/>class = 1>, fillcolor=\"#399de5\"] ;\\n62 -> 64 ;\\n65 [label=<gini = 0.0<br/>samples = 4<br/>value = [4, 0]<br/>class = 0>, fillcolor=\"#e58139\"] ;\\n59 -> 65 ;\\n66 [label=<BloodPressure &le; 67.0<br/>gini = 0.469<br/>samples = 64<br/>value = [40, 24]<br/>class = 0>, fillcolor=\"#f5cdb0\"] ;\\n54 -> 66 ;\\n67 [label=<BloodPressure &le; 58.0<br/>gini = 0.465<br/>samples = 19<br/>value = [7, 12]<br/>class = 1>, fillcolor=\"#acd6f4\"] ;\\n66 -> 67 ;\\n68 [label=<Glucose &le; 117.5<br/>gini = 0.245<br/>samples = 7<br/>value = [6, 1]<br/>class = 0>, fillcolor=\"#e9965a\"] ;\\n67 -> 68 ;\\n69 [label=<gini = 0.0<br/>samples = 5<br/>value = [5, 0]<br/>class = 0>, fillcolor=\"#e58139\"] ;\\n68 -> 69 ;\\n70 [label=<Glucose &le; 124.5<br/>gini = 0.5<br/>samples = 2<br/>value = [1, 1]<br/>class = 0>, fillcolor=\"#ffffff\"] ;\\n68 -> 70 ;\\n71 [label=<gini = 0.0<br/>samples = 1<br/>value = [0, 1]<br/>class = 1>, fillcolor=\"#399de5\"] ;\\n70 -> 71 ;\\n72 [label=<gini = 0.0<br/>samples = 1<br/>value = [1, 0]<br/>class = 0>, fillcolor=\"#e58139\"] ;\\n70 -> 72 ;\\n73 [label=<DiabetesPedigreeFunction &le; 0.425<br/>gini = 0.153<br/>samples = 12<br/>value = [1, 11]<br/>class = 1>, fillcolor=\"#4ba6e7\"] ;\\n67 -> 73 ;\\n74 [label=<gini = 0.0<br/>samples = 11<br/>value = [0, 11]<br/>class = 1>, fillcolor=\"#399de5\"] ;\\n73 -> 74 ;\\n75 [label=<gini = 0.0<br/>samples = 1<br/>value = [1, 0]<br/>class = 0>, fillcolor=\"#e58139\"] ;\\n73 -> 75 ;\\n76 [label=<BMI &le; 43.1<br/>gini = 0.391<br/>samples = 45<br/>value = [33, 12]<br/>class = 0>, fillcolor=\"#eeaf81\"] ;\\n66 -> 76 ;\\n77 [label=<Glucose &le; 102.5<br/>gini = 0.337<br/>samples = 42<br/>value = [33, 9]<br/>class = 0>, fillcolor=\"#eca36f\"] ;\\n76 -> 77 ;\\n78 [label=<gini = 0.0<br/>samples = 2<br/>value = [0, 2]<br/>class = 1>, fillcolor=\"#399de5\"] ;\\n77 -> 78 ;\\n79 [label=<BMI &le; 34.6<br/>gini = 0.289<br/>samples = 40<br/>value = [33, 7]<br/>class = 0>, fillcolor=\"#eb9c63\"] ;\\n77 -> 79 ;\\n80 [label=<Age &le; 35.0<br/>gini = 0.434<br/>samples = 22<br/>value = [15, 7]<br/>class = 0>, fillcolor=\"#f1bc95\"] ;\\n79 -> 80 ;\\n81 [label=<gini = 0.0<br/>samples = 6<br/>value = [6, 0]<br/>class = 0>, fillcolor=\"#e58139\"] ;\\n80 -> 81 ;\\n82 [label=<Glucose &le; 123.5<br/>gini = 0.492<br/>samples = 16<br/>value = [9, 7]<br/>class = 0>, fillcolor=\"#f9e3d3\"] ;\\n80 -> 82 ;\\n83 [label=<DiabetesPedigreeFunction &le; 0.375<br/>gini = 0.426<br/>samples = 13<br/>value = [9, 4]<br/>class = 0>, fillcolor=\"#f1b991\"] ;\\n82 -> 83 ;\\n84 [label=<DiabetesPedigreeFunction &le; 0.258<br/>gini = 0.298<br/>samples = 11<br/>value = [9, 2]<br/>class = 0>, fillcolor=\"#eb9d65\"] ;\\n83 -> 84 ;\\n85 [label=<gini = 0.0<br/>samples = 5<br/>value = [5, 0]<br/>class = 0>, fillcolor=\"#e58139\"] ;\\n84 -> 85 ;\\n86 [label=<BMI &le; 32.0<br/>gini = 0.444<br/>samples = 6<br/>value = [4, 2]<br/>class = 0>, fillcolor=\"#f2c09c\"] ;\\n84 -> 86 ;\\n87 [label=<BMI &le; 26.75<br/>gini = 0.444<br/>samples = 3<br/>value = [1, 2]<br/>class = 1>, fillcolor=\"#9ccef2\"] ;\\n86 -> 87 ;\\n88 [label=<gini = 0.0<br/>samples = 1<br/>value = [1, 0]<br/>class = 0>, fillcolor=\"#e58139\"] ;\\n87 -> 88 ;\\n89 [label=<gini = 0.0<br/>samples = 2<br/>value = [0, 2]<br/>class = 1>, fillcolor=\"#399de5\"] ;\\n87 -> 89 ;\\n90 [label=<gini = 0.0<br/>samples = 3<br/>value = [3, 0]<br/>class = 0>, fillcolor=\"#e58139\"] ;\\n86 -> 90 ;\\n91 [label=<gini = 0.0<br/>samples = 2<br/>value = [0, 2]<br/>class = 1>, fillcolor=\"#399de5\"] ;\\n83 -> 91 ;\\n92 [label=<gini = 0.0<br/>samples = 3<br/>value = [0, 3]<br/>class = 1>, fillcolor=\"#399de5\"] ;\\n82 -> 92 ;\\n93 [label=<gini = 0.0<br/>samples = 18<br/>value = [18, 0]<br/>class = 0>, fillcolor=\"#e58139\"] ;\\n79 -> 93 ;\\n94 [label=<gini = 0.0<br/>samples = 3<br/>value = [0, 3]<br/>class = 1>, fillcolor=\"#399de5\"] ;\\n76 -> 94 ;\\n95 [label=<Pregnancies &le; 8.5<br/>gini = 0.472<br/>samples = 42<br/>value = [16, 26]<br/>class = 1>, fillcolor=\"#b3d9f5\"] ;\\n53 -> 95 ;\\n96 [label=<BloodPressure &le; 87.0<br/>gini = 0.5<br/>samples = 33<br/>value = [16, 17]<br/>class = 1>, fillcolor=\"#f3f9fd\"] ;\\n95 -> 96 ;\\n97 [label=<Glucose &le; 97.0<br/>gini = 0.477<br/>samples = 28<br/>value = [11, 17]<br/>class = 1>, fillcolor=\"#b9dcf6\"] ;\\n96 -> 97 ;\\n98 [label=<gini = 0.0<br/>samples = 4<br/>value = [4, 0]<br/>class = 0>, fillcolor=\"#e58139\"] ;\\n97 -> 98 ;\\n99 [label=<Glucose &le; 116.5<br/>gini = 0.413<br/>samples = 24<br/>value = [7, 17]<br/>class = 1>, fillcolor=\"#8bc5f0\"] ;\\n97 -> 99 ;\\n100 [label=<DiabetesPedigreeFunction &le; 1.395<br/>gini = 0.165<br/>samples = 11<br/>value = [1, 10]<br/>class = 1>, fillcolor=\"#4da7e8\"] ;\\n99 -> 100 ;\\n101 [label=<gini = 0.0<br/>samples = 10<br/>value = [0, 10]<br/>class = 1>, fillcolor=\"#399de5\"] ;\\n100 -> 101 ;\\n102 [label=<gini = 0.0<br/>samples = 1<br/>value = [1, 0]<br/>class = 0>, fillcolor=\"#e58139\"] ;\\n100 -> 102 ;\\n103 [label=<Insulin &le; 78.0<br/>gini = 0.497<br/>samples = 13<br/>value = [6, 7]<br/>class = 1>, fillcolor=\"#e3f1fb\"] ;\\n99 -> 103 ;\\n104 [label=<gini = 0.0<br/>samples = 3<br/>value = [3, 0]<br/>class = 0>, fillcolor=\"#e58139\"] ;\\n103 -> 104 ;\\n105 [label=<Glucose &le; 123.5<br/>gini = 0.42<br/>samples = 10<br/>value = [3, 7]<br/>class = 1>, fillcolor=\"#8ec7f0\"] ;\\n103 -> 105 ;\\n106 [label=<Age &le; 33.5<br/>gini = 0.5<br/>samples = 6<br/>value = [3, 3]<br/>class = 0>, fillcolor=\"#ffffff\"] ;\\n105 -> 106 ;\\n107 [label=<Age &le; 28.5<br/>gini = 0.375<br/>samples = 4<br/>value = [1, 3]<br/>class = 1>, fillcolor=\"#7bbeee\"] ;\\n106 -> 107 ;\\n108 [label=<gini = 0.0<br/>samples = 1<br/>value = [1, 0]<br/>class = 0>, fillcolor=\"#e58139\"] ;\\n107 -> 108 ;\\n109 [label=<gini = 0.0<br/>samples = 3<br/>value = [0, 3]<br/>class = 1>, fillcolor=\"#399de5\"] ;\\n107 -> 109 ;\\n110 [label=<gini = 0.0<br/>samples = 2<br/>value = [2, 0]<br/>class = 0>, fillcolor=\"#e58139\"] ;\\n106 -> 110 ;\\n111 [label=<gini = 0.0<br/>samples = 4<br/>value = [0, 4]<br/>class = 1>, fillcolor=\"#399de5\"] ;\\n105 -> 111 ;\\n112 [label=<gini = 0.0<br/>samples = 5<br/>value = [5, 0]<br/>class = 0>, fillcolor=\"#e58139\"] ;\\n96 -> 112 ;\\n113 [label=<gini = 0.0<br/>samples = 9<br/>value = [0, 9]<br/>class = 1>, fillcolor=\"#399de5\"] ;\\n95 -> 113 ;\\n114 [label=<BMI &le; 27.85<br/>gini = 0.478<br/>samples = 180<br/>value = [71, 109]<br/>class = 1>, fillcolor=\"#baddf6\"] ;\\n0 -> 114 [labeldistance=2.5, labelangle=-45, headlabel=\"False\"] ;\\n115 [label=<Glucose &le; 145.5<br/>gini = 0.375<br/>samples = 36<br/>value = [27, 9]<br/>class = 0>, fillcolor=\"#eeab7b\"] ;\\n114 -> 115 ;\\n116 [label=<Age &le; 59.5<br/>gini = 0.1<br/>samples = 19<br/>value = [18, 1]<br/>class = 0>, fillcolor=\"#e68844\"] ;\\n115 -> 116 ;\\n117 [label=<gini = 0.0<br/>samples = 16<br/>value = [16, 0]<br/>class = 0>, fillcolor=\"#e58139\"] ;\\n116 -> 117 ;\\n118 [label=<BMI &le; 25.25<br/>gini = 0.444<br/>samples = 3<br/>value = [2, 1]<br/>class = 0>, fillcolor=\"#f2c09c\"] ;\\n116 -> 118 ;\\n119 [label=<gini = 0.0<br/>samples = 1<br/>value = [0, 1]<br/>class = 1>, fillcolor=\"#399de5\"] ;\\n118 -> 119 ;\\n120 [label=<gini = 0.0<br/>samples = 2<br/>value = [2, 0]<br/>class = 0>, fillcolor=\"#e58139\"] ;\\n118 -> 120 ;\\n121 [label=<BMI &le; 23.1<br/>gini = 0.498<br/>samples = 17<br/>value = [9, 8]<br/>class = 0>, fillcolor=\"#fcf1e9\"] ;\\n115 -> 121 ;\\n122 [label=<gini = 0.0<br/>samples = 3<br/>value = [3, 0]<br/>class = 0>, fillcolor=\"#e58139\"] ;\\n121 -> 122 ;\\n123 [label=<BMI &le; 25.55<br/>gini = 0.49<br/>samples = 14<br/>value = [6, 8]<br/>class = 1>, fillcolor=\"#cee6f8\"] ;\\n121 -> 123 ;\\n124 [label=<gini = 0.0<br/>samples = 6<br/>value = [0, 6]<br/>class = 1>, fillcolor=\"#399de5\"] ;\\n123 -> 124 ;\\n125 [label=<Glucose &le; 156.0<br/>gini = 0.375<br/>samples = 8<br/>value = [6, 2]<br/>class = 0>, fillcolor=\"#eeab7b\"] ;\\n123 -> 125 ;\\n126 [label=<gini = 0.0<br/>samples = 2<br/>value = [0, 2]<br/>class = 1>, fillcolor=\"#399de5\"] ;\\n125 -> 126 ;\\n127 [label=<gini = 0.0<br/>samples = 6<br/>value = [6, 0]<br/>class = 0>, fillcolor=\"#e58139\"] ;\\n125 -> 127 ;\\n128 [label=<Glucose &le; 158.5<br/>gini = 0.424<br/>samples = 144<br/>value = [44, 100]<br/>class = 1>, fillcolor=\"#90c8f0\"] ;\\n114 -> 128 ;\\n129 [label=<Age &le; 30.5<br/>gini = 0.487<br/>samples = 88<br/>value = [37, 51]<br/>class = 1>, fillcolor=\"#c9e4f8\"] ;\\n128 -> 129 ;\\n130 [label=<BloodPressure &le; 23.0<br/>gini = 0.49<br/>samples = 42<br/>value = [24, 18]<br/>class = 0>, fillcolor=\"#f8e0ce\"] ;\\n129 -> 130 ;\\n131 [label=<gini = 0.0<br/>samples = 4<br/>value = [0, 4]<br/>class = 1>, fillcolor=\"#399de5\"] ;\\n130 -> 131 ;\\n132 [label=<BloodPressure &le; 88.0<br/>gini = 0.465<br/>samples = 38<br/>value = [24, 14]<br/>class = 0>, fillcolor=\"#f4caac\"] ;\\n130 -> 132 ;\\n133 [label=<BloodPressure &le; 72.0<br/>gini = 0.444<br/>samples = 36<br/>value = [24, 12]<br/>class = 0>, fillcolor=\"#f2c09c\"] ;\\n132 -> 133 ;\\n134 [label=<BMI &le; 33.75<br/>gini = 0.5<br/>samples = 20<br/>value = [10, 10]<br/>class = 0>, fillcolor=\"#ffffff\"] ;\\n133 -> 134 ;\\n135 [label=<BMI &le; 31.05<br/>gini = 0.397<br/>samples = 11<br/>value = [8, 3]<br/>class = 0>, fillcolor=\"#efb083\"] ;\\n134 -> 135 ;\\n136 [label=<DiabetesPedigreeFunction &le; 0.374<br/>gini = 0.5<br/>samples = 6<br/>value = [3, 3]<br/>class = 0>, fillcolor=\"#ffffff\"] ;\\n135 -> 136 ;\\n137 [label=<gini = 0.0<br/>samples = 2<br/>value = [0, 2]<br/>class = 1>, fillcolor=\"#399de5\"] ;\\n136 -> 137 ;\\n138 [label=<BloodPressure &le; 67.0<br/>gini = 0.375<br/>samples = 4<br/>value = [3, 1]<br/>class = 0>, fillcolor=\"#eeab7b\"] ;\\n136 -> 138 ;\\n139 [label=<gini = 0.0<br/>samples = 3<br/>value = [3, 0]<br/>class = 0>, fillcolor=\"#e58139\"] ;\\n138 -> 139 ;\\n140 [label=<gini = 0.0<br/>samples = 1<br/>value = [0, 1]<br/>class = 1>, fillcolor=\"#399de5\"] ;\\n138 -> 140 ;\\n141 [label=<gini = 0.0<br/>samples = 5<br/>value = [5, 0]<br/>class = 0>, fillcolor=\"#e58139\"] ;\\n135 -> 141 ;\\n142 [label=<DiabetesPedigreeFunction &le; 0.535<br/>gini = 0.346<br/>samples = 9<br/>value = [2, 7]<br/>class = 1>, fillcolor=\"#72b9ec\"] ;\\n134 -> 142 ;\\n143 [label=<gini = 0.0<br/>samples = 6<br/>value = [0, 6]<br/>class = 1>, fillcolor=\"#399de5\"] ;\\n142 -> 143 ;\\n144 [label=<Age &le; 28.5<br/>gini = 0.444<br/>samples = 3<br/>value = [2, 1]<br/>class = 0>, fillcolor=\"#f2c09c\"] ;\\n142 -> 144 ;\\n145 [label=<gini = 0.0<br/>samples = 2<br/>value = [2, 0]<br/>class = 0>, fillcolor=\"#e58139\"] ;\\n144 -> 145 ;\\n146 [label=<gini = 0.0<br/>samples = 1<br/>value = [0, 1]<br/>class = 1>, fillcolor=\"#399de5\"] ;\\n144 -> 146 ;\\n147 [label=<Glucose &le; 157.5<br/>gini = 0.219<br/>samples = 16<br/>value = [14, 2]<br/>class = 0>, fillcolor=\"#e99355\"] ;\\n133 -> 147 ;\\n148 [label=<BMI &le; 43.4<br/>gini = 0.124<br/>samples = 15<br/>value = [14, 1]<br/>class = 0>, fillcolor=\"#e78a47\"] ;\\n147 -> 148 ;\\n149 [label=<gini = 0.0<br/>samples = 13<br/>value = [13, 0]<br/>class = 0>, fillcolor=\"#e58139\"] ;\\n148 -> 149 ;\\n150 [label=<DiabetesPedigreeFunction &le; 0.608<br/>gini = 0.5<br/>samples = 2<br/>value = [1, 1]<br/>class = 0>, fillcolor=\"#ffffff\"] ;\\n148 -> 150 ;\\n151 [label=<gini = 0.0<br/>samples = 1<br/>value = [1, 0]<br/>class = 0>, fillcolor=\"#e58139\"] ;\\n150 -> 151 ;\\n152 [label=<gini = 0.0<br/>samples = 1<br/>value = [0, 1]<br/>class = 1>, fillcolor=\"#399de5\"] ;\\n150 -> 152 ;\\n153 [label=<gini = 0.0<br/>samples = 1<br/>value = [0, 1]<br/>class = 1>, fillcolor=\"#399de5\"] ;\\n147 -> 153 ;\\n154 [label=<gini = 0.0<br/>samples = 2<br/>value = [0, 2]<br/>class = 1>, fillcolor=\"#399de5\"] ;\\n132 -> 154 ;\\n155 [label=<BMI &le; 34.05<br/>gini = 0.405<br/>samples = 46<br/>value = [13, 33]<br/>class = 1>, fillcolor=\"#87c4ef\"] ;\\n129 -> 155 ;\\n156 [label=<BloodPressure &le; 75.0<br/>gini = 0.49<br/>samples = 21<br/>value = [9, 12]<br/>class = 1>, fillcolor=\"#cee6f8\"] ;\\n155 -> 156 ;\\n157 [label=<gini = 0.0<br/>samples = 4<br/>value = [4, 0]<br/>class = 0>, fillcolor=\"#e58139\"] ;\\n156 -> 157 ;\\n158 [label=<DiabetesPedigreeFunction &le; 0.436<br/>gini = 0.415<br/>samples = 17<br/>value = [5, 12]<br/>class = 1>, fillcolor=\"#8bc6f0\"] ;\\n156 -> 158 ;\\n159 [label=<DiabetesPedigreeFunction &le; 0.371<br/>gini = 0.496<br/>samples = 11<br/>value = [5, 6]<br/>class = 1>, fillcolor=\"#deeffb\"] ;\\n158 -> 159 ;\\n160 [label=<BMI &le; 29.7<br/>gini = 0.444<br/>samples = 9<br/>value = [3, 6]<br/>class = 1>, fillcolor=\"#9ccef2\"] ;\\n159 -> 160 ;\\n161 [label=<gini = 0.0<br/>samples = 3<br/>value = [0, 3]<br/>class = 1>, fillcolor=\"#399de5\"] ;\\n160 -> 161 ;\\n162 [label=<BMI &le; 32.45<br/>gini = 0.5<br/>samples = 6<br/>value = [3, 3]<br/>class = 0>, fillcolor=\"#ffffff\"] ;\\n160 -> 162 ;\\n163 [label=<DiabetesPedigreeFunction &le; 0.164<br/>gini = 0.375<br/>samples = 4<br/>value = [3, 1]<br/>class = 0>, fillcolor=\"#eeab7b\"] ;\\n162 -> 163 ;\\n164 [label=<gini = 0.0<br/>samples = 1<br/>value = [0, 1]<br/>class = 1>, fillcolor=\"#399de5\"] ;\\n163 -> 164 ;\\n165 [label=<gini = 0.0<br/>samples = 3<br/>value = [3, 0]<br/>class = 0>, fillcolor=\"#e58139\"] ;\\n163 -> 165 ;\\n166 [label=<gini = 0.0<br/>samples = 2<br/>value = [0, 2]<br/>class = 1>, fillcolor=\"#399de5\"] ;\\n162 -> 166 ;\\n167 [label=<gini = 0.0<br/>samples = 2<br/>value = [2, 0]<br/>class = 0>, fillcolor=\"#e58139\"] ;\\n159 -> 167 ;\\n168 [label=<gini = 0.0<br/>samples = 6<br/>value = [0, 6]<br/>class = 1>, fillcolor=\"#399de5\"] ;\\n158 -> 168 ;\\n169 [label=<DiabetesPedigreeFunction &le; 1.088<br/>gini = 0.269<br/>samples = 25<br/>value = [4, 21]<br/>class = 1>, fillcolor=\"#5fb0ea\"] ;\\n155 -> 169 ;\\n170 [label=<Insulin &le; 306.5<br/>gini = 0.172<br/>samples = 21<br/>value = [2, 19]<br/>class = 1>, fillcolor=\"#4ea7e8\"] ;\\n169 -> 170 ;\\n171 [label=<BMI &le; 44.6<br/>gini = 0.1<br/>samples = 19<br/>value = [1, 18]<br/>class = 1>, fillcolor=\"#44a2e6\"] ;\\n170 -> 171 ;\\n172 [label=<gini = 0.0<br/>samples = 16<br/>value = [0, 16]<br/>class = 1>, fillcolor=\"#399de5\"] ;\\n171 -> 172 ;\\n173 [label=<Pregnancies &le; 6.0<br/>gini = 0.444<br/>samples = 3<br/>value = [1, 2]<br/>class = 1>, fillcolor=\"#9ccef2\"] ;\\n171 -> 173 ;\\n174 [label=<gini = 0.0<br/>samples = 1<br/>value = [1, 0]<br/>class = 0>, fillcolor=\"#e58139\"] ;\\n173 -> 174 ;\\n175 [label=<gini = 0.0<br/>samples = 2<br/>value = [0, 2]<br/>class = 1>, fillcolor=\"#399de5\"] ;\\n173 -> 175 ;\\n176 [label=<Pregnancies &le; 6.5<br/>gini = 0.5<br/>samples = 2<br/>value = [1, 1]<br/>class = 0>, fillcolor=\"#ffffff\"] ;\\n170 -> 176 ;\\n177 [label=<gini = 0.0<br/>samples = 1<br/>value = [0, 1]<br/>class = 1>, fillcolor=\"#399de5\"] ;\\n176 -> 177 ;\\n178 [label=<gini = 0.0<br/>samples = 1<br/>value = [1, 0]<br/>class = 0>, fillcolor=\"#e58139\"] ;\\n176 -> 178 ;\\n179 [label=<Insulin &le; 147.5<br/>gini = 0.5<br/>samples = 4<br/>value = [2, 2]<br/>class = 0>, fillcolor=\"#ffffff\"] ;\\n169 -> 179 ;\\n180 [label=<gini = 0.0<br/>samples = 2<br/>value = [2, 0]<br/>class = 0>, fillcolor=\"#e58139\"] ;\\n179 -> 180 ;\\n181 [label=<gini = 0.0<br/>samples = 2<br/>value = [0, 2]<br/>class = 1>, fillcolor=\"#399de5\"] ;\\n179 -> 181 ;\\n182 [label=<DiabetesPedigreeFunction &le; 1.157<br/>gini = 0.219<br/>samples = 56<br/>value = [7, 49]<br/>class = 1>, fillcolor=\"#55abe9\"] ;\\n128 -> 182 ;\\n183 [label=<DiabetesPedigreeFunction &le; 0.343<br/>gini = 0.147<br/>samples = 50<br/>value = [4, 46]<br/>class = 1>, fillcolor=\"#4aa6e7\"] ;\\n182 -> 183 ;\\n184 [label=<Age &le; 48.5<br/>gini = 0.332<br/>samples = 19<br/>value = [4, 15]<br/>class = 1>, fillcolor=\"#6eb7ec\"] ;\\n183 -> 184 ;\\n185 [label=<Glucose &le; 177.0<br/>gini = 0.219<br/>samples = 16<br/>value = [2, 14]<br/>class = 1>, fillcolor=\"#55abe9\"] ;\\n184 -> 185 ;\\n186 [label=<gini = 0.0<br/>samples = 9<br/>value = [0, 9]<br/>class = 1>, fillcolor=\"#399de5\"] ;\\n185 -> 186 ;\\n187 [label=<DiabetesPedigreeFunction &le; 0.206<br/>gini = 0.408<br/>samples = 7<br/>value = [2, 5]<br/>class = 1>, fillcolor=\"#88c4ef\"] ;\\n185 -> 187 ;\\n188 [label=<gini = 0.0<br/>samples = 1<br/>value = [1, 0]<br/>class = 0>, fillcolor=\"#e58139\"] ;\\n187 -> 188 ;\\n189 [label=<Glucose &le; 187.5<br/>gini = 0.278<br/>samples = 6<br/>value = [1, 5]<br/>class = 1>, fillcolor=\"#61b1ea\"] ;\\n187 -> 189 ;\\n190 [label=<gini = 0.0<br/>samples = 4<br/>value = [0, 4]<br/>class = 1>, fillcolor=\"#399de5\"] ;\\n189 -> 190 ;\\n191 [label=<BloodPressure &le; 69.0<br/>gini = 0.5<br/>samples = 2<br/>value = [1, 1]<br/>class = 0>, fillcolor=\"#ffffff\"] ;\\n189 -> 191 ;\\n192 [label=<gini = 0.0<br/>samples = 1<br/>value = [1, 0]<br/>class = 0>, fillcolor=\"#e58139\"] ;\\n191 -> 192 ;\\n193 [label=<gini = 0.0<br/>samples = 1<br/>value = [0, 1]<br/>class = 1>, fillcolor=\"#399de5\"] ;\\n191 -> 193 ;\\n194 [label=<Glucose &le; 184.5<br/>gini = 0.444<br/>samples = 3<br/>value = [2, 1]<br/>class = 0>, fillcolor=\"#f2c09c\"] ;\\n184 -> 194 ;\\n195 [label=<gini = 0.0<br/>samples = 2<br/>value = [2, 0]<br/>class = 0>, fillcolor=\"#e58139\"] ;\\n194 -> 195 ;\\n196 [label=<gini = 0.0<br/>samples = 1<br/>value = [0, 1]<br/>class = 1>, fillcolor=\"#399de5\"] ;\\n194 -> 196 ;\\n197 [label=<gini = 0.0<br/>samples = 31<br/>value = [0, 31]<br/>class = 1>, fillcolor=\"#399de5\"] ;\\n183 -> 197 ;\\n198 [label=<BMI &le; 40.4<br/>gini = 0.5<br/>samples = 6<br/>value = [3, 3]<br/>class = 0>, fillcolor=\"#ffffff\"] ;\\n182 -> 198 ;\\n199 [label=<Insulin &le; 604.5<br/>gini = 0.375<br/>samples = 4<br/>value = [1, 3]<br/>class = 1>, fillcolor=\"#7bbeee\"] ;\\n198 -> 199 ;\\n200 [label=<gini = 0.0<br/>samples = 3<br/>value = [0, 3]<br/>class = 1>, fillcolor=\"#399de5\"] ;\\n199 -> 200 ;\\n201 [label=<gini = 0.0<br/>samples = 1<br/>value = [1, 0]<br/>class = 0>, fillcolor=\"#e58139\"] ;\\n199 -> 201 ;\\n202 [label=<gini = 0.0<br/>samples = 2<br/>value = [2, 0]<br/>class = 0>, fillcolor=\"#e58139\"] ;\\n198 -> 202 ;\\n}'",
     "output_type": "error",
     "traceback": [
      "\u001b[1;31m---------------------------------------------------------------------------\u001b[0m",
      "\u001b[1;31mFileNotFoundError\u001b[0m                         Traceback (most recent call last)",
      "\u001b[1;32m~\\AppData\\Local\\Temp/ipykernel_7224/4039672827.py\u001b[0m in \u001b[0;36m<module>\u001b[1;34m\u001b[0m\n\u001b[0;32m      7\u001b[0m                 \u001b[0mfilled\u001b[0m\u001b[1;33m=\u001b[0m\u001b[1;32mTrue\u001b[0m\u001b[1;33m,\u001b[0m \u001b[0mrounded\u001b[0m\u001b[1;33m=\u001b[0m\u001b[1;32mTrue\u001b[0m\u001b[1;33m,\u001b[0m\u001b[1;33m\u001b[0m\u001b[1;33m\u001b[0m\u001b[0m\n\u001b[0;32m      8\u001b[0m                 special_characters=True, feature_names = feature_cols,class_names=['0','1'])\n\u001b[1;32m----> 9\u001b[1;33m \u001b[0mgraph\u001b[0m \u001b[1;33m=\u001b[0m \u001b[0mpydotplus\u001b[0m\u001b[1;33m.\u001b[0m\u001b[0mgraph_from_dot_file\u001b[0m\u001b[1;33m(\u001b[0m\u001b[0mdot_data\u001b[0m\u001b[1;33m.\u001b[0m\u001b[0mgetvalue\u001b[0m\u001b[1;33m(\u001b[0m\u001b[1;33m)\u001b[0m\u001b[1;33m)\u001b[0m\u001b[1;33m\u001b[0m\u001b[1;33m\u001b[0m\u001b[0m\n\u001b[0m\u001b[0;32m     10\u001b[0m \u001b[0mgraph\u001b[0m\u001b[1;33m.\u001b[0m\u001b[0mwrite_png\u001b[0m\u001b[1;33m(\u001b[0m\u001b[1;34m'd.png'\u001b[0m\u001b[1;33m)\u001b[0m\u001b[1;33m\u001b[0m\u001b[1;33m\u001b[0m\u001b[0m\n\u001b[0;32m     11\u001b[0m \u001b[0mImage\u001b[0m\u001b[1;33m(\u001b[0m\u001b[0mgraph\u001b[0m\u001b[1;33m.\u001b[0m\u001b[0mcreate_png\u001b[0m\u001b[1;33m(\u001b[0m\u001b[1;33m)\u001b[0m\u001b[1;33m)\u001b[0m\u001b[1;33m\u001b[0m\u001b[1;33m\u001b[0m\u001b[0m\n",
      "\u001b[1;32m~\\anaconda3\\lib\\site-packages\\pydotplus\\graphviz.py\u001b[0m in \u001b[0;36mgraph_from_dot_file\u001b[1;34m(path)\u001b[0m\n\u001b[0;32m    311\u001b[0m     \"\"\"\n\u001b[0;32m    312\u001b[0m \u001b[1;33m\u001b[0m\u001b[0m\n\u001b[1;32m--> 313\u001b[1;33m     \u001b[0mfd\u001b[0m \u001b[1;33m=\u001b[0m \u001b[0mopen\u001b[0m\u001b[1;33m(\u001b[0m\u001b[0mpath\u001b[0m\u001b[1;33m,\u001b[0m \u001b[1;34m'rb'\u001b[0m\u001b[1;33m)\u001b[0m\u001b[1;33m\u001b[0m\u001b[1;33m\u001b[0m\u001b[0m\n\u001b[0m\u001b[0;32m    314\u001b[0m     \u001b[0mdata\u001b[0m \u001b[1;33m=\u001b[0m \u001b[0mfd\u001b[0m\u001b[1;33m.\u001b[0m\u001b[0mread\u001b[0m\u001b[1;33m(\u001b[0m\u001b[1;33m)\u001b[0m\u001b[1;33m\u001b[0m\u001b[1;33m\u001b[0m\u001b[0m\n\u001b[0;32m    315\u001b[0m     \u001b[0mfd\u001b[0m\u001b[1;33m.\u001b[0m\u001b[0mclose\u001b[0m\u001b[1;33m(\u001b[0m\u001b[1;33m)\u001b[0m\u001b[1;33m\u001b[0m\u001b[1;33m\u001b[0m\u001b[0m\n",
      "\u001b[1;31mFileNotFoundError\u001b[0m: [Errno 2] No such file or directory: 'digraph Tree {\\nnode [shape=box, style=\"filled, rounded\", color=\"black\", fontname=helvetica] ;\\nedge [fontname=helvetica] ;\\n0 [label=<Glucose &le; 129.5<br/>gini = 0.449<br/>samples = 537<br/>value = [354, 183]<br/>class = 0>, fillcolor=\"#f2c29f\"] ;\\n1 [label=<BMI &le; 26.3<br/>gini = 0.329<br/>samples = 357<br/>value = [283, 74]<br/>class = 0>, fillcolor=\"#eca26d\"] ;\\n0 -> 1 [labeldistance=2.5, labelangle=45, headlabel=\"True\"] ;\\n2 [label=<BMI &le; 9.1<br/>gini = 0.06<br/>samples = 97<br/>value = [94, 3]<br/>class = 0>, fillcolor=\"#e6853f\"] ;\\n1 -> 2 ;\\n3 [label=<Pregnancies &le; 7.5<br/>gini = 0.444<br/>samples = 6<br/>value = [4, 2]<br/>class = 0>, fillcolor=\"#f2c09c\"] ;\\n2 -> 3 ;\\n4 [label=<gini = 0.0<br/>samples = 4<br/>value = [4, 0]<br/>class = 0>, fillcolor=\"#e58139\"] ;\\n3 -> 4 ;\\n5 [label=<gini = 0.0<br/>samples = 2<br/>value = [0, 2]<br/>class = 1>, fillcolor=\"#399de5\"] ;\\n3 -> 5 ;\\n6 [label=<DiabetesPedigreeFunction &le; 0.669<br/>gini = 0.022<br/>samples = 91<br/>value = [90, 1]<br/>class = 0>, fillcolor=\"#e5823b\"] ;\\n2 -> 6 ;\\n7 [label=<gini = 0.0<br/>samples = 76<br/>value = [76, 0]<br/>class = 0>, fillcolor=\"#e58139\"] ;\\n6 -> 7 ;\\n8 [label=<DiabetesPedigreeFunction &le; 0.705<br/>gini = 0.124<br/>samples = 15<br/>value = [14, 1]<br/>class = 0>, fillcolor=\"#e78a47\"] ;\\n6 -> 8 ;\\n9 [label=<gini = 0.0<br/>samples = 1<br/>value = [0, 1]<br/>class = 1>, fillcolor=\"#399de5\"] ;\\n8 -> 9 ;\\n10 [label=<gini = 0.0<br/>samples = 14<br/>value = [14, 0]<br/>class = 0>, fillcolor=\"#e58139\"] ;\\n8 -> 10 ;\\n11 [label=<Age &le; 27.5<br/>gini = 0.397<br/>samples = 260<br/>value = [189, 71]<br/>class = 0>, fillcolor=\"#efb083\"] ;\\n1 -> 11 ;\\n12 [label=<BMI &le; 45.4<br/>gini = 0.243<br/>samples = 120<br/>value = [103, 17]<br/>class = 0>, fillcolor=\"#e9965a\"] ;\\n11 -> 12 ;\\n13 [label=<BloodPressure &le; 12.0<br/>gini = 0.212<br/>samples = 116<br/>value = [102, 14]<br/>class = 0>, fillcolor=\"#e99254\"] ;\\n12 -> 13 ;\\n14 [label=<gini = 0.0<br/>samples = 1<br/>value = [0, 1]<br/>class = 1>, fillcolor=\"#399de5\"] ;\\n13 -> 14 ;\\n15 [label=<Pregnancies &le; 7.0<br/>gini = 0.201<br/>samples = 115<br/>value = [102, 13]<br/>class = 0>, fillcolor=\"#e89152\"] ;\\n13 -> 15 ;\\n16 [label=<DiabetesPedigreeFunction &le; 1.272<br/>gini = 0.188<br/>samples = 114<br/>value = [102, 12]<br/>class = 0>, fillcolor=\"#e89050\"] ;\\n15 -> 16 ;\\n17 [label=<BMI &le; 30.95<br/>gini = 0.165<br/>samples = 110<br/>value = [100, 10]<br/>class = 0>, fillcolor=\"#e88e4d\"] ;\\n16 -> 17 ;\\n18 [label=<gini = 0.0<br/>samples = 43<br/>value = [43, 0]<br/>class = 0>, fillcolor=\"#e58139\"] ;\\n17 -> 18 ;\\n19 [label=<BloodPressure &le; 53.0<br/>gini = 0.254<br/>samples = 67<br/>value = [57, 10]<br/>class = 0>, fillcolor=\"#ea975c\"] ;\\n17 -> 19 ;\\n20 [label=<Pregnancies &le; 2.5<br/>gini = 0.5<br/>samples = 6<br/>value = [3, 3]<br/>class = 0>, fillcolor=\"#ffffff\"] ;\\n19 -> 20 ;\\n21 [label=<DiabetesPedigreeFunction &le; 0.566<br/>gini = 0.375<br/>samples = 4<br/>value = [3, 1]<br/>class = 0>, fillcolor=\"#eeab7b\"] ;\\n20 -> 21 ;\\n22 [label=<gini = 0.0<br/>samples = 3<br/>value = [3, 0]<br/>class = 0>, fillcolor=\"#e58139\"] ;\\n21 -> 22 ;\\n23 [label=<gini = 0.0<br/>samples = 1<br/>value = [0, 1]<br/>class = 1>, fillcolor=\"#399de5\"] ;\\n21 -> 23 ;\\n24 [label=<gini = 0.0<br/>samples = 2<br/>value = [0, 2]<br/>class = 1>, fillcolor=\"#399de5\"] ;\\n20 -> 24 ;\\n25 [label=<DiabetesPedigreeFunction &le; 0.652<br/>gini = 0.203<br/>samples = 61<br/>value = [54, 7]<br/>class = 0>, fillcolor=\"#e89153\"] ;\\n19 -> 25 ;\\n26 [label=<Insulin &le; 36.5<br/>gini = 0.15<br/>samples = 49<br/>value = [45, 4]<br/>class = 0>, fillcolor=\"#e78c4b\"] ;\\n25 -> 26 ;\\n27 [label=<Insulin &le; 34.0<br/>gini = 0.32<br/>samples = 20<br/>value = [16, 4]<br/>class = 0>, fillcolor=\"#eca06a\"] ;\\n26 -> 27 ;\\n28 [label=<BMI &le; 33.65<br/>gini = 0.266<br/>samples = 19<br/>value = [16, 3]<br/>class = 0>, fillcolor=\"#ea995e\"] ;\\n27 -> 28 ;\\n29 [label=<Glucose &le; 102.0<br/>gini = 0.444<br/>samples = 6<br/>value = [4, 2]<br/>class = 0>, fillcolor=\"#f2c09c\"] ;\\n28 -> 29 ;\\n30 [label=<gini = 0.0<br/>samples = 3<br/>value = [3, 0]<br/>class = 0>, fillcolor=\"#e58139\"] ;\\n29 -> 30 ;\\n31 [label=<Glucose &le; 119.0<br/>gini = 0.444<br/>samples = 3<br/>value = [1, 2]<br/>class = 1>, fillcolor=\"#9ccef2\"] ;\\n29 -> 31 ;\\n32 [label=<gini = 0.0<br/>samples = 2<br/>value = [0, 2]<br/>class = 1>, fillcolor=\"#399de5\"] ;\\n31 -> 32 ;\\n33 [label=<gini = 0.0<br/>samples = 1<br/>value = [1, 0]<br/>class = 0>, fillcolor=\"#e58139\"] ;\\n31 -> 33 ;\\n34 [label=<BMI &le; 37.95<br/>gini = 0.142<br/>samples = 13<br/>value = [12, 1]<br/>class = 0>, fillcolor=\"#e78c49\"] ;\\n28 -> 34 ;\\n35 [label=<gini = 0.0<br/>samples = 11<br/>value = [11, 0]<br/>class = 0>, fillcolor=\"#e58139\"] ;\\n34 -> 35 ;\\n36 [label=<Insulin &le; 9.0<br/>gini = 0.5<br/>samples = 2<br/>value = [1, 1]<br/>class = 0>, fillcolor=\"#ffffff\"] ;\\n34 -> 36 ;\\n37 [label=<gini = 0.0<br/>samples = 1<br/>value = [0, 1]<br/>class = 1>, fillcolor=\"#399de5\"] ;\\n36 -> 37 ;\\n38 [label=<gini = 0.0<br/>samples = 1<br/>value = [1, 0]<br/>class = 0>, fillcolor=\"#e58139\"] ;\\n36 -> 38 ;\\n39 [label=<gini = 0.0<br/>samples = 1<br/>value = [0, 1]<br/>class = 1>, fillcolor=\"#399de5\"] ;\\n27 -> 39 ;\\n40 [label=<gini = 0.0<br/>samples = 29<br/>value = [29, 0]<br/>class = 0>, fillcolor=\"#e58139\"] ;\\n26 -> 40 ;\\n41 [label=<Insulin &le; 65.5<br/>gini = 0.375<br/>samples = 12<br/>value = [9, 3]<br/>class = 0>, fillcolor=\"#eeab7b\"] ;\\n25 -> 41 ;\\n42 [label=<gini = 0.0<br/>samples = 7<br/>value = [7, 0]<br/>class = 0>, fillcolor=\"#e58139\"] ;\\n41 -> 42 ;\\n43 [label=<Glucose &le; 115.0<br/>gini = 0.48<br/>samples = 5<br/>value = [2, 3]<br/>class = 1>, fillcolor=\"#bddef6\"] ;\\n41 -> 43 ;\\n44 [label=<gini = 0.0<br/>samples = 3<br/>value = [0, 3]<br/>class = 1>, fillcolor=\"#399de5\"] ;\\n43 -> 44 ;\\n45 [label=<gini = 0.0<br/>samples = 2<br/>value = [2, 0]<br/>class = 0>, fillcolor=\"#e58139\"] ;\\n43 -> 45 ;\\n46 [label=<BMI &le; 29.5<br/>gini = 0.5<br/>samples = 4<br/>value = [2, 2]<br/>class = 0>, fillcolor=\"#ffffff\"] ;\\n16 -> 46 ;\\n47 [label=<gini = 0.0<br/>samples = 2<br/>value = [2, 0]<br/>class = 0>, fillcolor=\"#e58139\"] ;\\n46 -> 47 ;\\n48 [label=<gini = 0.0<br/>samples = 2<br/>value = [0, 2]<br/>class = 1>, fillcolor=\"#399de5\"] ;\\n46 -> 48 ;\\n49 [label=<gini = 0.0<br/>samples = 1<br/>value = [0, 1]<br/>class = 1>, fillcolor=\"#399de5\"] ;\\n15 -> 49 ;\\n50 [label=<Age &le; 22.5<br/>gini = 0.375<br/>samples = 4<br/>value = [1, 3]<br/>class = 1>, fillcolor=\"#7bbeee\"] ;\\n12 -> 50 ;\\n51 [label=<gini = 0.0<br/>samples = 1<br/>value = [1, 0]<br/>class = 0>, fillcolor=\"#e58139\"] ;\\n50 -> 51 ;\\n52 [label=<gini = 0.0<br/>samples = 3<br/>value = [0, 3]<br/>class = 1>, fillcolor=\"#399de5\"] ;\\n50 -> 52 ;\\n53 [label=<DiabetesPedigreeFunction &le; 0.563<br/>gini = 0.474<br/>samples = 140<br/>value = [86, 54]<br/>class = 0>, fillcolor=\"#f5d0b5\"] ;\\n11 -> 53 ;\\n54 [label=<Glucose &le; 101.5<br/>gini = 0.408<br/>samples = 98<br/>value = [70, 28]<br/>class = 0>, fillcolor=\"#efb388\"] ;\\n53 -> 54 ;\\n55 [label=<BloodPressure &le; 27.0<br/>gini = 0.208<br/>samples = 34<br/>value = [30, 4]<br/>class = 0>, fillcolor=\"#e89253\"] ;\\n54 -> 55 ;\\n56 [label=<gini = 0.0<br/>samples = 1<br/>value = [0, 1]<br/>class = 1>, fillcolor=\"#399de5\"] ;\\n55 -> 56 ;\\n57 [label=<Age &le; 42.5<br/>gini = 0.165<br/>samples = 33<br/>value = [30, 3]<br/>class = 0>, fillcolor=\"#e88e4d\"] ;\\n55 -> 57 ;\\n58 [label=<gini = 0.0<br/>samples = 23<br/>value = [23, 0]<br/>class = 0>, fillcolor=\"#e58139\"] ;\\n57 -> 58 ;\\n59 [label=<Glucose &le; 97.5<br/>gini = 0.42<br/>samples = 10<br/>value = [7, 3]<br/>class = 0>, fillcolor=\"#f0b78e\"] ;\\n57 -> 59 ;\\n60 [label=<BMI &le; 35.25<br/>gini = 0.5<br/>samples = 6<br/>value = [3, 3]<br/>class = 0>, fillcolor=\"#ffffff\"] ;\\n59 -> 60 ;\\n61 [label=<gini = 0.0<br/>samples = 2<br/>value = [0, 2]<br/>class = 1>, fillcolor=\"#399de5\"] ;\\n60 -> 61 ;\\n62 [label=<Glucose &le; 96.0<br/>gini = 0.375<br/>samples = 4<br/>value = [3, 1]<br/>class = 0>, fillcolor=\"#eeab7b\"] ;\\n60 -> 62 ;\\n63 [label=<gini = 0.0<br/>samples = 3<br/>value = [3, 0]<br/>class = 0>, fillcolor=\"#e58139\"] ;\\n62 -> 63 ;\\n64 [label=<gini = 0.0<br/>samples = 1<br/>value = [0, 1]<br/>class = 1>, fillcolor=\"#399de5\"] ;\\n62 -> 64 ;\\n65 [label=<gini = 0.0<br/>samples = 4<br/>value = [4, 0]<br/>class = 0>, fillcolor=\"#e58139\"] ;\\n59 -> 65 ;\\n66 [label=<BloodPressure &le; 67.0<br/>gini = 0.469<br/>samples = 64<br/>value = [40, 24]<br/>class = 0>, fillcolor=\"#f5cdb0\"] ;\\n54 -> 66 ;\\n67 [label=<BloodPressure &le; 58.0<br/>gini = 0.465<br/>samples = 19<br/>value = [7, 12]<br/>class = 1>, fillcolor=\"#acd6f4\"] ;\\n66 -> 67 ;\\n68 [label=<Glucose &le; 117.5<br/>gini = 0.245<br/>samples = 7<br/>value = [6, 1]<br/>class = 0>, fillcolor=\"#e9965a\"] ;\\n67 -> 68 ;\\n69 [label=<gini = 0.0<br/>samples = 5<br/>value = [5, 0]<br/>class = 0>, fillcolor=\"#e58139\"] ;\\n68 -> 69 ;\\n70 [label=<Glucose &le; 124.5<br/>gini = 0.5<br/>samples = 2<br/>value = [1, 1]<br/>class = 0>, fillcolor=\"#ffffff\"] ;\\n68 -> 70 ;\\n71 [label=<gini = 0.0<br/>samples = 1<br/>value = [0, 1]<br/>class = 1>, fillcolor=\"#399de5\"] ;\\n70 -> 71 ;\\n72 [label=<gini = 0.0<br/>samples = 1<br/>value = [1, 0]<br/>class = 0>, fillcolor=\"#e58139\"] ;\\n70 -> 72 ;\\n73 [label=<DiabetesPedigreeFunction &le; 0.425<br/>gini = 0.153<br/>samples = 12<br/>value = [1, 11]<br/>class = 1>, fillcolor=\"#4ba6e7\"] ;\\n67 -> 73 ;\\n74 [label=<gini = 0.0<br/>samples = 11<br/>value = [0, 11]<br/>class = 1>, fillcolor=\"#399de5\"] ;\\n73 -> 74 ;\\n75 [label=<gini = 0.0<br/>samples = 1<br/>value = [1, 0]<br/>class = 0>, fillcolor=\"#e58139\"] ;\\n73 -> 75 ;\\n76 [label=<BMI &le; 43.1<br/>gini = 0.391<br/>samples = 45<br/>value = [33, 12]<br/>class = 0>, fillcolor=\"#eeaf81\"] ;\\n66 -> 76 ;\\n77 [label=<Glucose &le; 102.5<br/>gini = 0.337<br/>samples = 42<br/>value = [33, 9]<br/>class = 0>, fillcolor=\"#eca36f\"] ;\\n76 -> 77 ;\\n78 [label=<gini = 0.0<br/>samples = 2<br/>value = [0, 2]<br/>class = 1>, fillcolor=\"#399de5\"] ;\\n77 -> 78 ;\\n79 [label=<BMI &le; 34.6<br/>gini = 0.289<br/>samples = 40<br/>value = [33, 7]<br/>class = 0>, fillcolor=\"#eb9c63\"] ;\\n77 -> 79 ;\\n80 [label=<Age &le; 35.0<br/>gini = 0.434<br/>samples = 22<br/>value = [15, 7]<br/>class = 0>, fillcolor=\"#f1bc95\"] ;\\n79 -> 80 ;\\n81 [label=<gini = 0.0<br/>samples = 6<br/>value = [6, 0]<br/>class = 0>, fillcolor=\"#e58139\"] ;\\n80 -> 81 ;\\n82 [label=<Glucose &le; 123.5<br/>gini = 0.492<br/>samples = 16<br/>value = [9, 7]<br/>class = 0>, fillcolor=\"#f9e3d3\"] ;\\n80 -> 82 ;\\n83 [label=<DiabetesPedigreeFunction &le; 0.375<br/>gini = 0.426<br/>samples = 13<br/>value = [9, 4]<br/>class = 0>, fillcolor=\"#f1b991\"] ;\\n82 -> 83 ;\\n84 [label=<DiabetesPedigreeFunction &le; 0.258<br/>gini = 0.298<br/>samples = 11<br/>value = [9, 2]<br/>class = 0>, fillcolor=\"#eb9d65\"] ;\\n83 -> 84 ;\\n85 [label=<gini = 0.0<br/>samples = 5<br/>value = [5, 0]<br/>class = 0>, fillcolor=\"#e58139\"] ;\\n84 -> 85 ;\\n86 [label=<BMI &le; 32.0<br/>gini = 0.444<br/>samples = 6<br/>value = [4, 2]<br/>class = 0>, fillcolor=\"#f2c09c\"] ;\\n84 -> 86 ;\\n87 [label=<BMI &le; 26.75<br/>gini = 0.444<br/>samples = 3<br/>value = [1, 2]<br/>class = 1>, fillcolor=\"#9ccef2\"] ;\\n86 -> 87 ;\\n88 [label=<gini = 0.0<br/>samples = 1<br/>value = [1, 0]<br/>class = 0>, fillcolor=\"#e58139\"] ;\\n87 -> 88 ;\\n89 [label=<gini = 0.0<br/>samples = 2<br/>value = [0, 2]<br/>class = 1>, fillcolor=\"#399de5\"] ;\\n87 -> 89 ;\\n90 [label=<gini = 0.0<br/>samples = 3<br/>value = [3, 0]<br/>class = 0>, fillcolor=\"#e58139\"] ;\\n86 -> 90 ;\\n91 [label=<gini = 0.0<br/>samples = 2<br/>value = [0, 2]<br/>class = 1>, fillcolor=\"#399de5\"] ;\\n83 -> 91 ;\\n92 [label=<gini = 0.0<br/>samples = 3<br/>value = [0, 3]<br/>class = 1>, fillcolor=\"#399de5\"] ;\\n82 -> 92 ;\\n93 [label=<gini = 0.0<br/>samples = 18<br/>value = [18, 0]<br/>class = 0>, fillcolor=\"#e58139\"] ;\\n79 -> 93 ;\\n94 [label=<gini = 0.0<br/>samples = 3<br/>value = [0, 3]<br/>class = 1>, fillcolor=\"#399de5\"] ;\\n76 -> 94 ;\\n95 [label=<Pregnancies &le; 8.5<br/>gini = 0.472<br/>samples = 42<br/>value = [16, 26]<br/>class = 1>, fillcolor=\"#b3d9f5\"] ;\\n53 -> 95 ;\\n96 [label=<BloodPressure &le; 87.0<br/>gini = 0.5<br/>samples = 33<br/>value = [16, 17]<br/>class = 1>, fillcolor=\"#f3f9fd\"] ;\\n95 -> 96 ;\\n97 [label=<Glucose &le; 97.0<br/>gini = 0.477<br/>samples = 28<br/>value = [11, 17]<br/>class = 1>, fillcolor=\"#b9dcf6\"] ;\\n96 -> 97 ;\\n98 [label=<gini = 0.0<br/>samples = 4<br/>value = [4, 0]<br/>class = 0>, fillcolor=\"#e58139\"] ;\\n97 -> 98 ;\\n99 [label=<Glucose &le; 116.5<br/>gini = 0.413<br/>samples = 24<br/>value = [7, 17]<br/>class = 1>, fillcolor=\"#8bc5f0\"] ;\\n97 -> 99 ;\\n100 [label=<DiabetesPedigreeFunction &le; 1.395<br/>gini = 0.165<br/>samples = 11<br/>value = [1, 10]<br/>class = 1>, fillcolor=\"#4da7e8\"] ;\\n99 -> 100 ;\\n101 [label=<gini = 0.0<br/>samples = 10<br/>value = [0, 10]<br/>class = 1>, fillcolor=\"#399de5\"] ;\\n100 -> 101 ;\\n102 [label=<gini = 0.0<br/>samples = 1<br/>value = [1, 0]<br/>class = 0>, fillcolor=\"#e58139\"] ;\\n100 -> 102 ;\\n103 [label=<Insulin &le; 78.0<br/>gini = 0.497<br/>samples = 13<br/>value = [6, 7]<br/>class = 1>, fillcolor=\"#e3f1fb\"] ;\\n99 -> 103 ;\\n104 [label=<gini = 0.0<br/>samples = 3<br/>value = [3, 0]<br/>class = 0>, fillcolor=\"#e58139\"] ;\\n103 -> 104 ;\\n105 [label=<Glucose &le; 123.5<br/>gini = 0.42<br/>samples = 10<br/>value = [3, 7]<br/>class = 1>, fillcolor=\"#8ec7f0\"] ;\\n103 -> 105 ;\\n106 [label=<Age &le; 33.5<br/>gini = 0.5<br/>samples = 6<br/>value = [3, 3]<br/>class = 0>, fillcolor=\"#ffffff\"] ;\\n105 -> 106 ;\\n107 [label=<Age &le; 28.5<br/>gini = 0.375<br/>samples = 4<br/>value = [1, 3]<br/>class = 1>, fillcolor=\"#7bbeee\"] ;\\n106 -> 107 ;\\n108 [label=<gini = 0.0<br/>samples = 1<br/>value = [1, 0]<br/>class = 0>, fillcolor=\"#e58139\"] ;\\n107 -> 108 ;\\n109 [label=<gini = 0.0<br/>samples = 3<br/>value = [0, 3]<br/>class = 1>, fillcolor=\"#399de5\"] ;\\n107 -> 109 ;\\n110 [label=<gini = 0.0<br/>samples = 2<br/>value = [2, 0]<br/>class = 0>, fillcolor=\"#e58139\"] ;\\n106 -> 110 ;\\n111 [label=<gini = 0.0<br/>samples = 4<br/>value = [0, 4]<br/>class = 1>, fillcolor=\"#399de5\"] ;\\n105 -> 111 ;\\n112 [label=<gini = 0.0<br/>samples = 5<br/>value = [5, 0]<br/>class = 0>, fillcolor=\"#e58139\"] ;\\n96 -> 112 ;\\n113 [label=<gini = 0.0<br/>samples = 9<br/>value = [0, 9]<br/>class = 1>, fillcolor=\"#399de5\"] ;\\n95 -> 113 ;\\n114 [label=<BMI &le; 27.85<br/>gini = 0.478<br/>samples = 180<br/>value = [71, 109]<br/>class = 1>, fillcolor=\"#baddf6\"] ;\\n0 -> 114 [labeldistance=2.5, labelangle=-45, headlabel=\"False\"] ;\\n115 [label=<Glucose &le; 145.5<br/>gini = 0.375<br/>samples = 36<br/>value = [27, 9]<br/>class = 0>, fillcolor=\"#eeab7b\"] ;\\n114 -> 115 ;\\n116 [label=<Age &le; 59.5<br/>gini = 0.1<br/>samples = 19<br/>value = [18, 1]<br/>class = 0>, fillcolor=\"#e68844\"] ;\\n115 -> 116 ;\\n117 [label=<gini = 0.0<br/>samples = 16<br/>value = [16, 0]<br/>class = 0>, fillcolor=\"#e58139\"] ;\\n116 -> 117 ;\\n118 [label=<BMI &le; 25.25<br/>gini = 0.444<br/>samples = 3<br/>value = [2, 1]<br/>class = 0>, fillcolor=\"#f2c09c\"] ;\\n116 -> 118 ;\\n119 [label=<gini = 0.0<br/>samples = 1<br/>value = [0, 1]<br/>class = 1>, fillcolor=\"#399de5\"] ;\\n118 -> 119 ;\\n120 [label=<gini = 0.0<br/>samples = 2<br/>value = [2, 0]<br/>class = 0>, fillcolor=\"#e58139\"] ;\\n118 -> 120 ;\\n121 [label=<BMI &le; 23.1<br/>gini = 0.498<br/>samples = 17<br/>value = [9, 8]<br/>class = 0>, fillcolor=\"#fcf1e9\"] ;\\n115 -> 121 ;\\n122 [label=<gini = 0.0<br/>samples = 3<br/>value = [3, 0]<br/>class = 0>, fillcolor=\"#e58139\"] ;\\n121 -> 122 ;\\n123 [label=<BMI &le; 25.55<br/>gini = 0.49<br/>samples = 14<br/>value = [6, 8]<br/>class = 1>, fillcolor=\"#cee6f8\"] ;\\n121 -> 123 ;\\n124 [label=<gini = 0.0<br/>samples = 6<br/>value = [0, 6]<br/>class = 1>, fillcolor=\"#399de5\"] ;\\n123 -> 124 ;\\n125 [label=<Glucose &le; 156.0<br/>gini = 0.375<br/>samples = 8<br/>value = [6, 2]<br/>class = 0>, fillcolor=\"#eeab7b\"] ;\\n123 -> 125 ;\\n126 [label=<gini = 0.0<br/>samples = 2<br/>value = [0, 2]<br/>class = 1>, fillcolor=\"#399de5\"] ;\\n125 -> 126 ;\\n127 [label=<gini = 0.0<br/>samples = 6<br/>value = [6, 0]<br/>class = 0>, fillcolor=\"#e58139\"] ;\\n125 -> 127 ;\\n128 [label=<Glucose &le; 158.5<br/>gini = 0.424<br/>samples = 144<br/>value = [44, 100]<br/>class = 1>, fillcolor=\"#90c8f0\"] ;\\n114 -> 128 ;\\n129 [label=<Age &le; 30.5<br/>gini = 0.487<br/>samples = 88<br/>value = [37, 51]<br/>class = 1>, fillcolor=\"#c9e4f8\"] ;\\n128 -> 129 ;\\n130 [label=<BloodPressure &le; 23.0<br/>gini = 0.49<br/>samples = 42<br/>value = [24, 18]<br/>class = 0>, fillcolor=\"#f8e0ce\"] ;\\n129 -> 130 ;\\n131 [label=<gini = 0.0<br/>samples = 4<br/>value = [0, 4]<br/>class = 1>, fillcolor=\"#399de5\"] ;\\n130 -> 131 ;\\n132 [label=<BloodPressure &le; 88.0<br/>gini = 0.465<br/>samples = 38<br/>value = [24, 14]<br/>class = 0>, fillcolor=\"#f4caac\"] ;\\n130 -> 132 ;\\n133 [label=<BloodPressure &le; 72.0<br/>gini = 0.444<br/>samples = 36<br/>value = [24, 12]<br/>class = 0>, fillcolor=\"#f2c09c\"] ;\\n132 -> 133 ;\\n134 [label=<BMI &le; 33.75<br/>gini = 0.5<br/>samples = 20<br/>value = [10, 10]<br/>class = 0>, fillcolor=\"#ffffff\"] ;\\n133 -> 134 ;\\n135 [label=<BMI &le; 31.05<br/>gini = 0.397<br/>samples = 11<br/>value = [8, 3]<br/>class = 0>, fillcolor=\"#efb083\"] ;\\n134 -> 135 ;\\n136 [label=<DiabetesPedigreeFunction &le; 0.374<br/>gini = 0.5<br/>samples = 6<br/>value = [3, 3]<br/>class = 0>, fillcolor=\"#ffffff\"] ;\\n135 -> 136 ;\\n137 [label=<gini = 0.0<br/>samples = 2<br/>value = [0, 2]<br/>class = 1>, fillcolor=\"#399de5\"] ;\\n136 -> 137 ;\\n138 [label=<BloodPressure &le; 67.0<br/>gini = 0.375<br/>samples = 4<br/>value = [3, 1]<br/>class = 0>, fillcolor=\"#eeab7b\"] ;\\n136 -> 138 ;\\n139 [label=<gini = 0.0<br/>samples = 3<br/>value = [3, 0]<br/>class = 0>, fillcolor=\"#e58139\"] ;\\n138 -> 139 ;\\n140 [label=<gini = 0.0<br/>samples = 1<br/>value = [0, 1]<br/>class = 1>, fillcolor=\"#399de5\"] ;\\n138 -> 140 ;\\n141 [label=<gini = 0.0<br/>samples = 5<br/>value = [5, 0]<br/>class = 0>, fillcolor=\"#e58139\"] ;\\n135 -> 141 ;\\n142 [label=<DiabetesPedigreeFunction &le; 0.535<br/>gini = 0.346<br/>samples = 9<br/>value = [2, 7]<br/>class = 1>, fillcolor=\"#72b9ec\"] ;\\n134 -> 142 ;\\n143 [label=<gini = 0.0<br/>samples = 6<br/>value = [0, 6]<br/>class = 1>, fillcolor=\"#399de5\"] ;\\n142 -> 143 ;\\n144 [label=<Age &le; 28.5<br/>gini = 0.444<br/>samples = 3<br/>value = [2, 1]<br/>class = 0>, fillcolor=\"#f2c09c\"] ;\\n142 -> 144 ;\\n145 [label=<gini = 0.0<br/>samples = 2<br/>value = [2, 0]<br/>class = 0>, fillcolor=\"#e58139\"] ;\\n144 -> 145 ;\\n146 [label=<gini = 0.0<br/>samples = 1<br/>value = [0, 1]<br/>class = 1>, fillcolor=\"#399de5\"] ;\\n144 -> 146 ;\\n147 [label=<Glucose &le; 157.5<br/>gini = 0.219<br/>samples = 16<br/>value = [14, 2]<br/>class = 0>, fillcolor=\"#e99355\"] ;\\n133 -> 147 ;\\n148 [label=<BMI &le; 43.4<br/>gini = 0.124<br/>samples = 15<br/>value = [14, 1]<br/>class = 0>, fillcolor=\"#e78a47\"] ;\\n147 -> 148 ;\\n149 [label=<gini = 0.0<br/>samples = 13<br/>value = [13, 0]<br/>class = 0>, fillcolor=\"#e58139\"] ;\\n148 -> 149 ;\\n150 [label=<DiabetesPedigreeFunction &le; 0.608<br/>gini = 0.5<br/>samples = 2<br/>value = [1, 1]<br/>class = 0>, fillcolor=\"#ffffff\"] ;\\n148 -> 150 ;\\n151 [label=<gini = 0.0<br/>samples = 1<br/>value = [1, 0]<br/>class = 0>, fillcolor=\"#e58139\"] ;\\n150 -> 151 ;\\n152 [label=<gini = 0.0<br/>samples = 1<br/>value = [0, 1]<br/>class = 1>, fillcolor=\"#399de5\"] ;\\n150 -> 152 ;\\n153 [label=<gini = 0.0<br/>samples = 1<br/>value = [0, 1]<br/>class = 1>, fillcolor=\"#399de5\"] ;\\n147 -> 153 ;\\n154 [label=<gini = 0.0<br/>samples = 2<br/>value = [0, 2]<br/>class = 1>, fillcolor=\"#399de5\"] ;\\n132 -> 154 ;\\n155 [label=<BMI &le; 34.05<br/>gini = 0.405<br/>samples = 46<br/>value = [13, 33]<br/>class = 1>, fillcolor=\"#87c4ef\"] ;\\n129 -> 155 ;\\n156 [label=<BloodPressure &le; 75.0<br/>gini = 0.49<br/>samples = 21<br/>value = [9, 12]<br/>class = 1>, fillcolor=\"#cee6f8\"] ;\\n155 -> 156 ;\\n157 [label=<gini = 0.0<br/>samples = 4<br/>value = [4, 0]<br/>class = 0>, fillcolor=\"#e58139\"] ;\\n156 -> 157 ;\\n158 [label=<DiabetesPedigreeFunction &le; 0.436<br/>gini = 0.415<br/>samples = 17<br/>value = [5, 12]<br/>class = 1>, fillcolor=\"#8bc6f0\"] ;\\n156 -> 158 ;\\n159 [label=<DiabetesPedigreeFunction &le; 0.371<br/>gini = 0.496<br/>samples = 11<br/>value = [5, 6]<br/>class = 1>, fillcolor=\"#deeffb\"] ;\\n158 -> 159 ;\\n160 [label=<BMI &le; 29.7<br/>gini = 0.444<br/>samples = 9<br/>value = [3, 6]<br/>class = 1>, fillcolor=\"#9ccef2\"] ;\\n159 -> 160 ;\\n161 [label=<gini = 0.0<br/>samples = 3<br/>value = [0, 3]<br/>class = 1>, fillcolor=\"#399de5\"] ;\\n160 -> 161 ;\\n162 [label=<BMI &le; 32.45<br/>gini = 0.5<br/>samples = 6<br/>value = [3, 3]<br/>class = 0>, fillcolor=\"#ffffff\"] ;\\n160 -> 162 ;\\n163 [label=<DiabetesPedigreeFunction &le; 0.164<br/>gini = 0.375<br/>samples = 4<br/>value = [3, 1]<br/>class = 0>, fillcolor=\"#eeab7b\"] ;\\n162 -> 163 ;\\n164 [label=<gini = 0.0<br/>samples = 1<br/>value = [0, 1]<br/>class = 1>, fillcolor=\"#399de5\"] ;\\n163 -> 164 ;\\n165 [label=<gini = 0.0<br/>samples = 3<br/>value = [3, 0]<br/>class = 0>, fillcolor=\"#e58139\"] ;\\n163 -> 165 ;\\n166 [label=<gini = 0.0<br/>samples = 2<br/>value = [0, 2]<br/>class = 1>, fillcolor=\"#399de5\"] ;\\n162 -> 166 ;\\n167 [label=<gini = 0.0<br/>samples = 2<br/>value = [2, 0]<br/>class = 0>, fillcolor=\"#e58139\"] ;\\n159 -> 167 ;\\n168 [label=<gini = 0.0<br/>samples = 6<br/>value = [0, 6]<br/>class = 1>, fillcolor=\"#399de5\"] ;\\n158 -> 168 ;\\n169 [label=<DiabetesPedigreeFunction &le; 1.088<br/>gini = 0.269<br/>samples = 25<br/>value = [4, 21]<br/>class = 1>, fillcolor=\"#5fb0ea\"] ;\\n155 -> 169 ;\\n170 [label=<Insulin &le; 306.5<br/>gini = 0.172<br/>samples = 21<br/>value = [2, 19]<br/>class = 1>, fillcolor=\"#4ea7e8\"] ;\\n169 -> 170 ;\\n171 [label=<BMI &le; 44.6<br/>gini = 0.1<br/>samples = 19<br/>value = [1, 18]<br/>class = 1>, fillcolor=\"#44a2e6\"] ;\\n170 -> 171 ;\\n172 [label=<gini = 0.0<br/>samples = 16<br/>value = [0, 16]<br/>class = 1>, fillcolor=\"#399de5\"] ;\\n171 -> 172 ;\\n173 [label=<Pregnancies &le; 6.0<br/>gini = 0.444<br/>samples = 3<br/>value = [1, 2]<br/>class = 1>, fillcolor=\"#9ccef2\"] ;\\n171 -> 173 ;\\n174 [label=<gini = 0.0<br/>samples = 1<br/>value = [1, 0]<br/>class = 0>, fillcolor=\"#e58139\"] ;\\n173 -> 174 ;\\n175 [label=<gini = 0.0<br/>samples = 2<br/>value = [0, 2]<br/>class = 1>, fillcolor=\"#399de5\"] ;\\n173 -> 175 ;\\n176 [label=<Pregnancies &le; 6.5<br/>gini = 0.5<br/>samples = 2<br/>value = [1, 1]<br/>class = 0>, fillcolor=\"#ffffff\"] ;\\n170 -> 176 ;\\n177 [label=<gini = 0.0<br/>samples = 1<br/>value = [0, 1]<br/>class = 1>, fillcolor=\"#399de5\"] ;\\n176 -> 177 ;\\n178 [label=<gini = 0.0<br/>samples = 1<br/>value = [1, 0]<br/>class = 0>, fillcolor=\"#e58139\"] ;\\n176 -> 178 ;\\n179 [label=<Insulin &le; 147.5<br/>gini = 0.5<br/>samples = 4<br/>value = [2, 2]<br/>class = 0>, fillcolor=\"#ffffff\"] ;\\n169 -> 179 ;\\n180 [label=<gini = 0.0<br/>samples = 2<br/>value = [2, 0]<br/>class = 0>, fillcolor=\"#e58139\"] ;\\n179 -> 180 ;\\n181 [label=<gini = 0.0<br/>samples = 2<br/>value = [0, 2]<br/>class = 1>, fillcolor=\"#399de5\"] ;\\n179 -> 181 ;\\n182 [label=<DiabetesPedigreeFunction &le; 1.157<br/>gini = 0.219<br/>samples = 56<br/>value = [7, 49]<br/>class = 1>, fillcolor=\"#55abe9\"] ;\\n128 -> 182 ;\\n183 [label=<DiabetesPedigreeFunction &le; 0.343<br/>gini = 0.147<br/>samples = 50<br/>value = [4, 46]<br/>class = 1>, fillcolor=\"#4aa6e7\"] ;\\n182 -> 183 ;\\n184 [label=<Age &le; 48.5<br/>gini = 0.332<br/>samples = 19<br/>value = [4, 15]<br/>class = 1>, fillcolor=\"#6eb7ec\"] ;\\n183 -> 184 ;\\n185 [label=<Glucose &le; 177.0<br/>gini = 0.219<br/>samples = 16<br/>value = [2, 14]<br/>class = 1>, fillcolor=\"#55abe9\"] ;\\n184 -> 185 ;\\n186 [label=<gini = 0.0<br/>samples = 9<br/>value = [0, 9]<br/>class = 1>, fillcolor=\"#399de5\"] ;\\n185 -> 186 ;\\n187 [label=<DiabetesPedigreeFunction &le; 0.206<br/>gini = 0.408<br/>samples = 7<br/>value = [2, 5]<br/>class = 1>, fillcolor=\"#88c4ef\"] ;\\n185 -> 187 ;\\n188 [label=<gini = 0.0<br/>samples = 1<br/>value = [1, 0]<br/>class = 0>, fillcolor=\"#e58139\"] ;\\n187 -> 188 ;\\n189 [label=<Glucose &le; 187.5<br/>gini = 0.278<br/>samples = 6<br/>value = [1, 5]<br/>class = 1>, fillcolor=\"#61b1ea\"] ;\\n187 -> 189 ;\\n190 [label=<gini = 0.0<br/>samples = 4<br/>value = [0, 4]<br/>class = 1>, fillcolor=\"#399de5\"] ;\\n189 -> 190 ;\\n191 [label=<BloodPressure &le; 69.0<br/>gini = 0.5<br/>samples = 2<br/>value = [1, 1]<br/>class = 0>, fillcolor=\"#ffffff\"] ;\\n189 -> 191 ;\\n192 [label=<gini = 0.0<br/>samples = 1<br/>value = [1, 0]<br/>class = 0>, fillcolor=\"#e58139\"] ;\\n191 -> 192 ;\\n193 [label=<gini = 0.0<br/>samples = 1<br/>value = [0, 1]<br/>class = 1>, fillcolor=\"#399de5\"] ;\\n191 -> 193 ;\\n194 [label=<Glucose &le; 184.5<br/>gini = 0.444<br/>samples = 3<br/>value = [2, 1]<br/>class = 0>, fillcolor=\"#f2c09c\"] ;\\n184 -> 194 ;\\n195 [label=<gini = 0.0<br/>samples = 2<br/>value = [2, 0]<br/>class = 0>, fillcolor=\"#e58139\"] ;\\n194 -> 195 ;\\n196 [label=<gini = 0.0<br/>samples = 1<br/>value = [0, 1]<br/>class = 1>, fillcolor=\"#399de5\"] ;\\n194 -> 196 ;\\n197 [label=<gini = 0.0<br/>samples = 31<br/>value = [0, 31]<br/>class = 1>, fillcolor=\"#399de5\"] ;\\n183 -> 197 ;\\n198 [label=<BMI &le; 40.4<br/>gini = 0.5<br/>samples = 6<br/>value = [3, 3]<br/>class = 0>, fillcolor=\"#ffffff\"] ;\\n182 -> 198 ;\\n199 [label=<Insulin &le; 604.5<br/>gini = 0.375<br/>samples = 4<br/>value = [1, 3]<br/>class = 1>, fillcolor=\"#7bbeee\"] ;\\n198 -> 199 ;\\n200 [label=<gini = 0.0<br/>samples = 3<br/>value = [0, 3]<br/>class = 1>, fillcolor=\"#399de5\"] ;\\n199 -> 200 ;\\n201 [label=<gini = 0.0<br/>samples = 1<br/>value = [1, 0]<br/>class = 0>, fillcolor=\"#e58139\"] ;\\n199 -> 201 ;\\n202 [label=<gini = 0.0<br/>samples = 2<br/>value = [2, 0]<br/>class = 0>, fillcolor=\"#e58139\"] ;\\n198 -> 202 ;\\n}'"
     ]
    }
   ],
   "source": [
    "import pydotplus\n",
    "from sklearn import tree\n",
    "from six import StringIO\n",
    "from IPython.display import Image\n",
    "dot_data = StringIO()\n",
    "tree.export_graphviz(c, out_file=dot_data,  \n",
    "                filled=True, rounded=True,\n",
    "                special_characters=True, feature_names = feature_cols,class_names=['0','1'])\n",
    "graph = pydotplus.graph_from_dot_file(dot_data.getvalue())\n",
    "graph.write_png('d.png')\n",
    "Image(graph.create_png())\n"
   ]
  }
 ],
 "metadata": {
  "interpreter": {
   "hash": "34cec13c89c40dd88c713a1a8db97ddb97266fbed868a0da0c26f710eefcb48a"
  },
  "kernelspec": {
   "display_name": "Python 3.10.2 64-bit",
   "language": "python",
   "name": "python3"
  },
  "language_info": {
   "codemirror_mode": {
    "name": "ipython",
    "version": 3
   },
   "file_extension": ".py",
   "mimetype": "text/x-python",
   "name": "python",
   "nbconvert_exporter": "python",
   "pygments_lexer": "ipython3",
   "version": "3.9.7"
  },
  "orig_nbformat": 4
 },
 "nbformat": 4,
 "nbformat_minor": 2
}
